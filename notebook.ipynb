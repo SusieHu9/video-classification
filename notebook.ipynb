{
 "cells": [
  {
   "cell_type": "markdown",
   "id": "743ea582",
   "metadata": {
    "id": "743ea582"
   },
   "source": [
    "## Transfer Learning for Video Classification"
   ]
  },
  {
   "cell_type": "markdown",
   "id": "618239d2",
   "metadata": {
    "id": "618239d2"
   },
   "source": [
    "### Data Exploration and Pre-processing"
   ]
  },
  {
   "cell_type": "markdown",
   "id": "eb692943",
   "metadata": {
    "id": "eb692943"
   },
   "source": [
    "Package Imports"
   ]
  },
  {
   "cell_type": "code",
   "execution_count": 1,
   "id": "vmw7agL282B5",
   "metadata": {
    "colab": {
     "base_uri": "https://localhost:8080/"
    },
    "executionInfo": {
     "elapsed": 58753,
     "status": "ok",
     "timestamp": 1683601259899,
     "user": {
      "displayName": "Susie",
      "userId": "08584928109216989221"
     },
     "user_tz": 420
    },
    "id": "vmw7agL282B5",
    "outputId": "92627386-b40f-4324-ce5e-a7bf8f765ec4"
   },
   "outputs": [
    {
     "name": "stdout",
     "output_type": "stream",
     "text": [
      "Looking in indexes: https://pypi.org/simple, https://us-python.pkg.dev/colab-wheels/public/simple/\n",
      "Collecting tensorflow==2.9.1\n",
      "  Downloading tensorflow-2.9.1-cp310-cp310-manylinux_2_17_x86_64.manylinux2014_x86_64.whl (511.7 MB)\n",
      "\u001b[2K     \u001b[90m━━━━━━━━━━━━━━━━━━━━━━━━━━━━━━━━━━━━━━━\u001b[0m \u001b[32m511.7/511.7 MB\u001b[0m \u001b[31m2.7 MB/s\u001b[0m eta \u001b[36m0:00:00\u001b[0m\n",
      "\u001b[?25hRequirement already satisfied: setuptools in /usr/local/lib/python3.10/dist-packages (from tensorflow==2.9.1) (67.7.2)\n",
      "Collecting keras-preprocessing>=1.1.1\n",
      "  Downloading Keras_Preprocessing-1.1.2-py2.py3-none-any.whl (42 kB)\n",
      "\u001b[2K     \u001b[90m━━━━━━━━━━━━━━━━━━━━━━━━━━━━━━━━━━━━━━━━\u001b[0m \u001b[32m42.6/42.6 kB\u001b[0m \u001b[31m5.8 MB/s\u001b[0m eta \u001b[36m0:00:00\u001b[0m\n",
      "\u001b[?25hRequirement already satisfied: termcolor>=1.1.0 in /usr/local/lib/python3.10/dist-packages (from tensorflow==2.9.1) (2.3.0)\n",
      "Collecting tensorboard<2.10,>=2.9\n",
      "  Downloading tensorboard-2.9.1-py3-none-any.whl (5.8 MB)\n",
      "\u001b[2K     \u001b[90m━━━━━━━━━━━━━━━━━━━━━━━━━━━━━━━━━━━━━━━━\u001b[0m \u001b[32m5.8/5.8 MB\u001b[0m \u001b[31m115.7 MB/s\u001b[0m eta \u001b[36m0:00:00\u001b[0m\n",
      "\u001b[?25hRequirement already satisfied: h5py>=2.9.0 in /usr/local/lib/python3.10/dist-packages (from tensorflow==2.9.1) (3.8.0)\n",
      "Requirement already satisfied: grpcio<2.0,>=1.24.3 in /usr/local/lib/python3.10/dist-packages (from tensorflow==2.9.1) (1.54.0)\n",
      "Requirement already satisfied: wrapt>=1.11.0 in /usr/local/lib/python3.10/dist-packages (from tensorflow==2.9.1) (1.14.1)\n",
      "Requirement already satisfied: gast<=0.4.0,>=0.2.1 in /usr/local/lib/python3.10/dist-packages (from tensorflow==2.9.1) (0.4.0)\n",
      "Requirement already satisfied: six>=1.12.0 in /usr/local/lib/python3.10/dist-packages (from tensorflow==2.9.1) (1.16.0)\n",
      "Collecting keras<2.10.0,>=2.9.0rc0\n",
      "  Downloading keras-2.9.0-py2.py3-none-any.whl (1.6 MB)\n",
      "\u001b[2K     \u001b[90m━━━━━━━━━━━━━━━━━━━━━━━━━━━━━━━━━━━━━━━━\u001b[0m \u001b[32m1.6/1.6 MB\u001b[0m \u001b[31m86.8 MB/s\u001b[0m eta \u001b[36m0:00:00\u001b[0m\n",
      "\u001b[?25hRequirement already satisfied: numpy>=1.20 in /usr/local/lib/python3.10/dist-packages (from tensorflow==2.9.1) (1.22.4)\n",
      "Requirement already satisfied: astunparse>=1.6.0 in /usr/local/lib/python3.10/dist-packages (from tensorflow==2.9.1) (1.6.3)\n",
      "Collecting protobuf<3.20,>=3.9.2\n",
      "  Downloading protobuf-3.19.6-cp310-cp310-manylinux_2_17_x86_64.manylinux2014_x86_64.whl (1.1 MB)\n",
      "\u001b[2K     \u001b[90m━━━━━━━━━━━━━━━━━━━━━━━━━━━━━━━━━━━━━━━━\u001b[0m \u001b[32m1.1/1.1 MB\u001b[0m \u001b[31m79.6 MB/s\u001b[0m eta \u001b[36m0:00:00\u001b[0m\n",
      "\u001b[?25hRequirement already satisfied: typing-extensions>=3.6.6 in /usr/local/lib/python3.10/dist-packages (from tensorflow==2.9.1) (4.5.0)\n",
      "Requirement already satisfied: libclang>=13.0.0 in /usr/local/lib/python3.10/dist-packages (from tensorflow==2.9.1) (16.0.0)\n",
      "Collecting tensorflow-estimator<2.10.0,>=2.9.0rc0\n",
      "  Downloading tensorflow_estimator-2.9.0-py2.py3-none-any.whl (438 kB)\n",
      "\u001b[2K     \u001b[90m━━━━━━━━━━━━━━━━━━━━━━━━━━━━━━━━━━━━━━\u001b[0m \u001b[32m438.7/438.7 kB\u001b[0m \u001b[31m44.0 MB/s\u001b[0m eta \u001b[36m0:00:00\u001b[0m\n",
      "\u001b[?25hRequirement already satisfied: absl-py>=1.0.0 in /usr/local/lib/python3.10/dist-packages (from tensorflow==2.9.1) (1.4.0)\n",
      "Requirement already satisfied: google-pasta>=0.1.1 in /usr/local/lib/python3.10/dist-packages (from tensorflow==2.9.1) (0.2.0)\n",
      "Collecting flatbuffers<2,>=1.12\n",
      "  Downloading flatbuffers-1.12-py2.py3-none-any.whl (15 kB)\n",
      "Requirement already satisfied: packaging in /usr/local/lib/python3.10/dist-packages (from tensorflow==2.9.1) (23.1)\n",
      "Requirement already satisfied: tensorflow-io-gcs-filesystem>=0.23.1 in /usr/local/lib/python3.10/dist-packages (from tensorflow==2.9.1) (0.32.0)\n",
      "Requirement already satisfied: opt-einsum>=2.3.2 in /usr/local/lib/python3.10/dist-packages (from tensorflow==2.9.1) (3.3.0)\n",
      "Requirement already satisfied: wheel<1.0,>=0.23.0 in /usr/local/lib/python3.10/dist-packages (from astunparse>=1.6.0->tensorflow==2.9.1) (0.40.0)\n",
      "Collecting google-auth-oauthlib<0.5,>=0.4.1\n",
      "  Downloading google_auth_oauthlib-0.4.6-py2.py3-none-any.whl (18 kB)\n",
      "Requirement already satisfied: werkzeug>=1.0.1 in /usr/local/lib/python3.10/dist-packages (from tensorboard<2.10,>=2.9->tensorflow==2.9.1) (2.3.0)\n",
      "Requirement already satisfied: tensorboard-plugin-wit>=1.6.0 in /usr/local/lib/python3.10/dist-packages (from tensorboard<2.10,>=2.9->tensorflow==2.9.1) (1.8.1)\n",
      "Requirement already satisfied: requests<3,>=2.21.0 in /usr/local/lib/python3.10/dist-packages (from tensorboard<2.10,>=2.9->tensorflow==2.9.1) (2.27.1)\n",
      "Requirement already satisfied: markdown>=2.6.8 in /usr/local/lib/python3.10/dist-packages (from tensorboard<2.10,>=2.9->tensorflow==2.9.1) (3.4.3)\n",
      "Requirement already satisfied: google-auth<3,>=1.6.3 in /usr/local/lib/python3.10/dist-packages (from tensorboard<2.10,>=2.9->tensorflow==2.9.1) (2.17.3)\n",
      "Collecting tensorboard-data-server<0.7.0,>=0.6.0\n",
      "  Downloading tensorboard_data_server-0.6.1-py3-none-manylinux2010_x86_64.whl (4.9 MB)\n",
      "\u001b[2K     \u001b[90m━━━━━━━━━━━━━━━━━━━━━━━━━━━━━━━━━━━━━━━━\u001b[0m \u001b[32m4.9/4.9 MB\u001b[0m \u001b[31m72.5 MB/s\u001b[0m eta \u001b[36m0:00:00\u001b[0m\n",
      "\u001b[?25hRequirement already satisfied: cachetools<6.0,>=2.0.0 in /usr/local/lib/python3.10/dist-packages (from google-auth<3,>=1.6.3->tensorboard<2.10,>=2.9->tensorflow==2.9.1) (5.3.0)\n",
      "Requirement already satisfied: pyasn1-modules>=0.2.1 in /usr/local/lib/python3.10/dist-packages (from google-auth<3,>=1.6.3->tensorboard<2.10,>=2.9->tensorflow==2.9.1) (0.3.0)\n",
      "Requirement already satisfied: rsa<5,>=3.1.4 in /usr/local/lib/python3.10/dist-packages (from google-auth<3,>=1.6.3->tensorboard<2.10,>=2.9->tensorflow==2.9.1) (4.9)\n",
      "Requirement already satisfied: requests-oauthlib>=0.7.0 in /usr/local/lib/python3.10/dist-packages (from google-auth-oauthlib<0.5,>=0.4.1->tensorboard<2.10,>=2.9->tensorflow==2.9.1) (1.3.1)\n",
      "Requirement already satisfied: urllib3<1.27,>=1.21.1 in /usr/local/lib/python3.10/dist-packages (from requests<3,>=2.21.0->tensorboard<2.10,>=2.9->tensorflow==2.9.1) (1.26.15)\n",
      "Requirement already satisfied: idna<4,>=2.5 in /usr/local/lib/python3.10/dist-packages (from requests<3,>=2.21.0->tensorboard<2.10,>=2.9->tensorflow==2.9.1) (3.4)\n",
      "Requirement already satisfied: certifi>=2017.4.17 in /usr/local/lib/python3.10/dist-packages (from requests<3,>=2.21.0->tensorboard<2.10,>=2.9->tensorflow==2.9.1) (2022.12.7)\n",
      "Requirement already satisfied: charset-normalizer~=2.0.0 in /usr/local/lib/python3.10/dist-packages (from requests<3,>=2.21.0->tensorboard<2.10,>=2.9->tensorflow==2.9.1) (2.0.12)\n",
      "Requirement already satisfied: MarkupSafe>=2.1.1 in /usr/local/lib/python3.10/dist-packages (from werkzeug>=1.0.1->tensorboard<2.10,>=2.9->tensorflow==2.9.1) (2.1.2)\n",
      "Requirement already satisfied: pyasn1<0.6.0,>=0.4.6 in /usr/local/lib/python3.10/dist-packages (from pyasn1-modules>=0.2.1->google-auth<3,>=1.6.3->tensorboard<2.10,>=2.9->tensorflow==2.9.1) (0.5.0)\n",
      "Requirement already satisfied: oauthlib>=3.0.0 in /usr/local/lib/python3.10/dist-packages (from requests-oauthlib>=0.7.0->google-auth-oauthlib<0.5,>=0.4.1->tensorboard<2.10,>=2.9->tensorflow==2.9.1) (3.2.2)\n",
      "Installing collected packages: keras, flatbuffers, tensorflow-estimator, tensorboard-data-server, protobuf, keras-preprocessing, google-auth-oauthlib, tensorboard, tensorflow\n",
      "  Attempting uninstall: keras\n",
      "    Found existing installation: keras 2.12.0\n",
      "    Uninstalling keras-2.12.0:\n",
      "      Successfully uninstalled keras-2.12.0\n",
      "  Attempting uninstall: flatbuffers\n",
      "    Found existing installation: flatbuffers 23.3.3\n",
      "    Uninstalling flatbuffers-23.3.3:\n",
      "      Successfully uninstalled flatbuffers-23.3.3\n",
      "  Attempting uninstall: tensorflow-estimator\n",
      "    Found existing installation: tensorflow-estimator 2.12.0\n",
      "    Uninstalling tensorflow-estimator-2.12.0:\n",
      "      Successfully uninstalled tensorflow-estimator-2.12.0\n",
      "  Attempting uninstall: tensorboard-data-server\n",
      "    Found existing installation: tensorboard-data-server 0.7.0\n",
      "    Uninstalling tensorboard-data-server-0.7.0:\n",
      "      Successfully uninstalled tensorboard-data-server-0.7.0\n",
      "  Attempting uninstall: protobuf\n",
      "    Found existing installation: protobuf 3.20.3\n",
      "    Uninstalling protobuf-3.20.3:\n",
      "      Successfully uninstalled protobuf-3.20.3\n",
      "  Attempting uninstall: google-auth-oauthlib\n",
      "    Found existing installation: google-auth-oauthlib 1.0.0\n",
      "    Uninstalling google-auth-oauthlib-1.0.0:\n",
      "      Successfully uninstalled google-auth-oauthlib-1.0.0\n",
      "  Attempting uninstall: tensorboard\n",
      "    Found existing installation: tensorboard 2.12.2\n",
      "    Uninstalling tensorboard-2.12.2:\n",
      "      Successfully uninstalled tensorboard-2.12.2\n",
      "  Attempting uninstall: tensorflow\n",
      "    Found existing installation: tensorflow 2.12.0\n",
      "    Uninstalling tensorflow-2.12.0:\n",
      "      Successfully uninstalled tensorflow-2.12.0\n",
      "\u001b[31mERROR: pip's dependency resolver does not currently take into account all the packages that are installed. This behaviour is the source of the following dependency conflicts.\n",
      "tensorflow-metadata 1.13.1 requires protobuf<5,>=3.20.3, but you have protobuf 3.19.6 which is incompatible.\n",
      "tensorflow-datasets 4.9.2 requires protobuf>=3.20, but you have protobuf 3.19.6 which is incompatible.\u001b[0m\u001b[31m\n",
      "\u001b[0mSuccessfully installed flatbuffers-1.12 google-auth-oauthlib-0.4.6 keras-2.9.0 keras-preprocessing-1.1.2 protobuf-3.19.6 tensorboard-2.9.1 tensorboard-data-server-0.6.1 tensorflow-2.9.1 tensorflow-estimator-2.9.0\n"
     ]
    }
   ],
   "source": [
    "!pip install tensorflow==2.9.1"
   ]
  },
  {
   "cell_type": "code",
   "execution_count": 2,
   "id": "6f8b5619",
   "metadata": {
    "executionInfo": {
     "elapsed": 2998,
     "status": "ok",
     "timestamp": 1683601262892,
     "user": {
      "displayName": "Susie",
      "userId": "08584928109216989221"
     },
     "user_tz": 420
    },
    "id": "6f8b5619"
   },
   "outputs": [],
   "source": [
    "import os\n",
    "import random\n",
    "import math\n",
    "import shutil\n",
    "import cv2\n",
    "from PIL import Image\n",
    "import os\n",
    "import numpy as np\n",
    "import pandas as pd\n",
    "import tensorflow as tf\n",
    "from tensorflow.keras.preprocessing.image import ImageDataGenerator, img_to_array\n",
    "from tensorflow.keras.applications import ResNet50, EfficientNetB0, VGG16\n",
    "from tensorflow.keras.layers import GlobalAveragePooling2D, Flatten, Dense, Activation, BatchNormalization, Dropout\n",
    "from tensorflow.keras.models import Model, load_model\n",
    "from tensorflow.keras.optimizers import Adam\n",
    "from tensorflow.keras.callbacks import EarlyStopping, ModelCheckpoint\n",
    "from sklearn.metrics import confusion_matrix, precision_score, recall_score, accuracy_score, f1_score\n",
    "import matplotlib.pyplot as plt"
   ]
  },
  {
   "cell_type": "code",
   "execution_count": 3,
   "id": "xBdafTLVhZ6y",
   "metadata": {
    "colab": {
     "base_uri": "https://localhost:8080/"
    },
    "executionInfo": {
     "elapsed": 59483,
     "status": "ok",
     "timestamp": 1683601322369,
     "user": {
      "displayName": "Susie",
      "userId": "08584928109216989221"
     },
     "user_tz": 420
    },
    "id": "xBdafTLVhZ6y",
    "outputId": "fe78964c-9ab1-44a3-c61e-244ad2fedcc8"
   },
   "outputs": [
    {
     "name": "stdout",
     "output_type": "stream",
     "text": [
      "Mounted at /content/drive\n"
     ]
    }
   ],
   "source": [
    "from google.colab import drive\n",
    "drive.mount('/content/drive')"
   ]
  },
  {
   "cell_type": "markdown",
   "id": "28ac8ed9",
   "metadata": {
    "id": "28ac8ed9"
   },
   "source": [
    "i. read images"
   ]
  },
  {
   "cell_type": "code",
   "execution_count": 4,
   "id": "6825963d",
   "metadata": {
    "executionInfo": {
     "elapsed": 7,
     "status": "ok",
     "timestamp": 1683601322369,
     "user": {
      "displayName": "Susie",
      "userId": "08584928109216989221"
     },
     "user_tz": 420
    },
    "id": "6825963d"
   },
   "outputs": [],
   "source": [
    "def create_dataset_folders(base_path, classes):\n",
    "    for class_name in classes:\n",
    "        for folder in ['train', 'validation', 'test']:\n",
    "            os.makedirs(os.path.join(base_path, folder, class_name), exist_ok=True)"
   ]
  },
  {
   "cell_type": "markdown",
   "id": "cbc07b3d",
   "metadata": {
    "id": "cbc07b3d"
   },
   "source": [
    "ii. split images"
   ]
  },
  {
   "cell_type": "code",
   "execution_count": 5,
   "id": "18d8cc97",
   "metadata": {
    "executionInfo": {
     "elapsed": 4,
     "status": "ok",
     "timestamp": 1683601322369,
     "user": {
      "displayName": "Susie",
      "userId": "08584928109216989221"
     },
     "user_tz": 420
    },
    "id": "18d8cc97"
   },
   "outputs": [],
   "source": [
    "def split_images(base_path, classes, train_ratio=0.7, validation_ratio=0.15):\n",
    "    for class_name in classes:\n",
    "        class_path = os.path.join(base_path, 'Sport Images', class_name)\n",
    "        images = os.listdir(class_path)\n",
    "        random.shuffle(images)\n",
    "\n",
    "        num_train = math.ceil(len(images) * train_ratio)\n",
    "        num_validation = math.ceil(len(images) * validation_ratio)\n",
    "        print('{}-train:{} validation:{} test:{}'.format(class_name, num_train, num_validation, len(images)-num_train-num_validation))\n",
    "        \n",
    "        train_images = images[:num_train]\n",
    "        validation_images = images[num_train:num_train+num_validation]\n",
    "        test_images = images[num_train+num_validation:]\n",
    "        \n",
    "        folder = ['train','validation','test']\n",
    "        folder_images = [train_images,validation_images,test_images]\n",
    "        for i in range(0,3):\n",
    "            folder_name = folder[i]\n",
    "            for image in folder_images[i]:\n",
    "                if not image.endswith('.gif') and not image.endswith('.png'):\n",
    "                    shutil.copy(os.path.join(class_path, image), os.path.join(base_path, folder_name, class_name, image))\n",
    "                else:\n",
    "                    if image.endswith('.gif'):\n",
    "                        image_name = os.path.basename(os.path.splitext(image)[0])\n",
    "                        gif = Image.open(os.path.join(class_path, image))\n",
    "                        gif.convert('RGB').save(os.path.join(base_path, folder_name, class_name, image_name+'.jpeg'))\n",
    "                    else:\n",
    "                        image_name = os.path.basename(os.path.splitext(image)[0])\n",
    "                        png = Image.open(os.path.join(class_path, image))\n",
    "                        png = png.convert('RGB').convert('P', palette=Image.ADAPTIVE, colors=256)\n",
    "                        png.save(os.path.join(base_path, folder_name, class_name, image_name+'.png'))"
   ]
  },
  {
   "cell_type": "markdown",
   "id": "7c4d8a5f",
   "metadata": {
    "id": "7c4d8a5f"
   },
   "source": [
    "iii. resize images"
   ]
  },
  {
   "cell_type": "code",
   "execution_count": 6,
   "id": "bb7e17ab",
   "metadata": {
    "executionInfo": {
     "elapsed": 5,
     "status": "ok",
     "timestamp": 1683601322370,
     "user": {
      "displayName": "Susie",
      "userId": "08584928109216989221"
     },
     "user_tz": 420
    },
    "id": "bb7e17ab"
   },
   "outputs": [],
   "source": [
    "def resize_images(base_path, classes, target_size=(512, 512)):\n",
    "    for folder in ['train', 'validation', 'test']:\n",
    "        for class_name in classes:\n",
    "            class_path = os.path.join(base_path, folder, class_name)\n",
    "            images = os.listdir(class_path)\n",
    "            for image in images:\n",
    "                image_path = os.path.join(class_path, image)\n",
    "                # Ignore files with the .DS_Store extension\n",
    "                if not image_path.endswith('.DS_Store'):\n",
    "                    img = cv2.imread(image_path)\n",
    "                    img_resized = cv2.resize(img, target_size, interpolation=cv2.INTER_AREA)\n",
    "                    cv2.imwrite(image_path, img_resized)"
   ]
  },
  {
   "cell_type": "markdown",
   "id": "GX_SCCSyzQdt",
   "metadata": {
    "id": "GX_SCCSyzQdt"
   },
   "source": [
    "iv. define google drive path and classes"
   ]
  },
  {
   "cell_type": "code",
   "execution_count": 7,
   "id": "pepfo_yvzP8F",
   "metadata": {
    "executionInfo": {
     "elapsed": 5,
     "status": "ok",
     "timestamp": 1683601322370,
     "user": {
      "displayName": "Susie",
      "userId": "08584928109216989221"
     },
     "user_tz": 420
    },
    "id": "pepfo_yvzP8F"
   },
   "outputs": [],
   "source": [
    "classes = ['baseball', 'basketball', 'fencing', 'tennis','volleyball']\n",
    "\n",
    "google_drive_path = os.path.abspath(os.getcwd()) # /content\n",
    "data_path = os.path.join(google_drive_path, 'drive', 'MyDrive', 'PDF Project', 'data')"
   ]
  },
  {
   "cell_type": "markdown",
   "id": "ouYhV80OzkD5",
   "metadata": {
    "id": "ouYhV80OzkD5"
   },
   "source": [
    "v. pre-processing and splitting images"
   ]
  },
  {
   "cell_type": "code",
   "execution_count": 8,
   "id": "5c674426",
   "metadata": {
    "colab": {
     "base_uri": "https://localhost:8080/"
    },
    "executionInfo": {
     "elapsed": 131707,
     "status": "ok",
     "timestamp": 1683601454073,
     "user": {
      "displayName": "Susie",
      "userId": "08584928109216989221"
     },
     "user_tz": 420
    },
    "id": "5c674426",
    "outputId": "ae9ad574-3d52-4814-ef82-6a054effb7cd",
    "scrolled": true
   },
   "outputs": [
    {
     "name": "stdout",
     "output_type": "stream",
     "text": [
      "baseball-train:515 validation:111 test:109\n",
      "basketball-train:345 validation:74 test:73\n",
      "fencing-train:444 validation:96 test:94\n",
      "tennis-train:501 validation:108 test:106\n",
      "volleyball-train:493 validation:106 test:105\n"
     ]
    }
   ],
   "source": [
    "sport_images_path = os.path.join(data_path, \"Sport Images\")\n",
    "create_dataset_folders(data_path, classes)\n",
    "split_images(data_path, classes)\n",
    "resize_images(data_path, classes)"
   ]
  },
  {
   "cell_type": "markdown",
   "id": "f51dd2de",
   "metadata": {},
   "source": [
    "#### Result:\n",
    "\n",
    "Images are pre-processed, split and then saved in the corresponding new folders 'train', 'test', and 'validation' according to training, testing and validation."
   ]
  },
  {
   "cell_type": "markdown",
   "id": "be29f8c9",
   "metadata": {
    "id": "be29f8c9"
   },
   "source": [
    "### Transfer Learning for Image Classification"
   ]
  },
  {
   "cell_type": "markdown",
   "id": "m2CPh50HGfTq",
   "metadata": {
    "id": "m2CPh50HGfTq"
   },
   "source": [
    "i. image augmentation"
   ]
  },
  {
   "cell_type": "code",
   "execution_count": 9,
   "id": "sTDiC6d2J4Ai",
   "metadata": {
    "executionInfo": {
     "elapsed": 7,
     "status": "ok",
     "timestamp": 1683601454074,
     "user": {
      "displayName": "Susie",
      "userId": "08584928109216989221"
     },
     "user_tz": 420
    },
    "id": "sTDiC6d2J4Ai"
   },
   "outputs": [],
   "source": [
    "def file_paths_generator(directory_name):\n",
    "    file_paths = []\n",
    "    class_list = []\n",
    "    for dir_name in directory_name:\n",
    "      for class_name in classes:\n",
    "        class_dir = os.path.join(data_path, dir_name,class_name)\n",
    "        filenames = os.listdir(class_dir)\n",
    "        for filename in filenames:\n",
    "            file_path = os.path.join(class_dir, filename)\n",
    "            file_paths.append(file_path)\n",
    "            class_list.append(class_name)\n",
    "\n",
    "    return file_paths, class_list\n",
    "\n",
    "def image_data_generator(batch_size=20):\n",
    "    file_paths, class_list = file_paths_generator(directory_name = ['train'])\n",
    "\n",
    "    train_df = pd.DataFrame({\n",
    "        'file_path' : file_paths,\n",
    "        'class': class_list\n",
    "    })\n",
    "\n",
    "    train_generator = ImageDataGenerator(\n",
    "        rescale=1./255,\n",
    "        shear_range=0.2, # crop\n",
    "        zoom_range=0.2, # zoom\n",
    "        rotation_range=30, # rotate\n",
    "        horizontal_flip=True, # flip\n",
    "        vertical_flip=True,\n",
    "        brightness_range=(0.5, 1.5), # contrast\n",
    "        width_shift_range=0.2, # translate\n",
    "        height_shift_range=0.2,\n",
    "        fill_mode='nearest')\n",
    "\n",
    "    train_generator = train_generator.flow_from_dataframe(\n",
    "        train_df,\n",
    "        x_col = 'file_path',\n",
    "        y_col = 'class',\n",
    "        target_size=(256, 256),\n",
    "        batch_size=batch_size,\n",
    "        class_mode='categorical')\n",
    "    \n",
    "    \n",
    "\n",
    "    file_paths, class_list = file_paths_generator(directory_name = ['validation'])\n",
    "    val_df = pd.DataFrame({\n",
    "        'file_path' : file_paths,\n",
    "        'class': class_list\n",
    "    })\n",
    "\n",
    "    val_generator = ImageDataGenerator(rescale=1./255)\n",
    "    val_generator = val_generator.flow_from_dataframe(\n",
    "        val_df,\n",
    "        x_col = 'file_path',\n",
    "        y_col = 'class',\n",
    "        target_size=(256, 256),\n",
    "        batch_size=batch_size,\n",
    "        class_mode='categorical')  \n",
    "\n",
    "\n",
    "    return train_generator, val_generator, train_df, val_df"
   ]
  },
  {
   "cell_type": "markdown",
   "id": "3kDw2G6CQx_b",
   "metadata": {
    "id": "3kDw2G6CQx_b"
   },
   "source": [
    "ii. train model (base model + the last layer)\n",
    "\n"
   ]
  },
  {
   "cell_type": "code",
   "execution_count": 10,
   "id": "bcBMfb5M00MB",
   "metadata": {
    "executionInfo": {
     "elapsed": 6,
     "status": "ok",
     "timestamp": 1683601454075,
     "user": {
      "displayName": "Susie",
      "userId": "08584928109216989221"
     },
     "user_tz": 420
    },
    "id": "bcBMfb5M00MB"
   },
   "outputs": [],
   "source": [
    "def transfer_learning_model(base_model, num_classes):\n",
    "    x = base_model.output # base model\n",
    "    x = GlobalAveragePooling2D()(x)\n",
    "    x = BatchNormalization()(x) # batch normalization\n",
    "    x = Dense(1024, activation='relu')(x) # relu\n",
    "    x = Dropout(0.2)(x) # dropout\n",
    "    x = Dense(num_classes, activation='softmax')(x) # softmax\n",
    "\n",
    "    model = Model(inputs=base_model.input, outputs=x)\n",
    "\n",
    "    return model\n",
    "\n",
    "def train_model(model, train_generator, val_generator, epochs=50, model_name = 'model'):\n",
    "    model.compile(optimizer=Adam(learning_rate=0.0001), loss='categorical_crossentropy', metrics=['accuracy']) # adam + cross entropy loss\n",
    "    early_stopping = EarlyStopping(monitor='val_loss', patience=5, verbose=1) # early stopping\n",
    "\n",
    "    checkpoint = ModelCheckpoint(f\"{model_name}.h5\", monitor='val_loss', save_best_only=True, verbose=1)\n",
    "\n",
    "    train_model_history = model.fit(train_generator, \n",
    "                        epochs=epochs, \n",
    "                        validation_data=val_generator,\n",
    "                        callbacks=[early_stopping, checkpoint])\n",
    "\n",
    "    return train_model_history"
   ]
  },
  {
   "cell_type": "markdown",
   "id": "yTBHfJ9T_rvT",
   "metadata": {
    "id": "yTBHfJ9T_rvT"
   },
   "source": [
    "iii. plot the training and validation error vs epochs"
   ]
  },
  {
   "cell_type": "code",
   "execution_count": 11,
   "id": "eab60b40",
   "metadata": {
    "executionInfo": {
     "elapsed": 5,
     "status": "ok",
     "timestamp": 1683601454075,
     "user": {
      "displayName": "Susie",
      "userId": "08584928109216989221"
     },
     "user_tz": 420
    },
    "id": "eab60b40"
   },
   "outputs": [],
   "source": [
    "def plot_model_history(history, model_name):\n",
    "    plt.figure(figsize=(10, 5))\n",
    "    plt.plot(history.history['loss'], label='Training Loss')\n",
    "    plt.plot(history.history['val_loss'], label='Validation Loss')\n",
    "    plt.xlabel('Epochs')\n",
    "    plt.ylabel('Loss')\n",
    "    plt.title(f'{model_name} Training and Validation Loss VS Epochs')\n",
    "    plt.legend()\n",
    "    plt.show()"
   ]
  },
  {
   "cell_type": "markdown",
   "id": "vgPl2-aE_4W5",
   "metadata": {
    "id": "vgPl2-aE_4W5"
   },
   "source": [
    "iv. report model results"
   ]
  },
  {
   "cell_type": "code",
   "execution_count": 12,
   "id": "B0lyMZr__37V",
   "metadata": {
    "executionInfo": {
     "elapsed": 5,
     "status": "ok",
     "timestamp": 1683601454075,
     "user": {
      "displayName": "Susie",
      "userId": "08584928109216989221"
     },
     "user_tz": 420
    },
    "id": "B0lyMZr__37V"
   },
   "outputs": [],
   "source": [
    "def report_result(y_true, y_pred):\n",
    "    conf_matrix = confusion_matrix(y_true, y_pred)\n",
    "    precision = precision_score(y_true, y_pred, average='weighted')\n",
    "    recall = recall_score(y_true, y_pred, average='weighted')\n",
    "    accuracy = accuracy_score(y_true, y_pred)\n",
    "    f1 = f1_score(y_true, y_pred, average='weighted')\n",
    "\n",
    "    return {'confusion_matrix': conf_matrix, 'precision': precision, 'recall': recall, 'accuracy': accuracy, 'f1_score': f1}"
   ]
  },
  {
   "cell_type": "markdown",
   "id": "fkwPPMT4lL7Q",
   "metadata": {
    "id": "fkwPPMT4lL7Q"
   },
   "source": [
    "v. train model and report results"
   ]
  },
  {
   "cell_type": "code",
   "execution_count": 13,
   "id": "5321928b",
   "metadata": {
    "colab": {
     "base_uri": "https://localhost:8080/",
     "height": 1000
    },
    "executionInfo": {
     "elapsed": 4639312,
     "status": "ok",
     "timestamp": 1683606093383,
     "user": {
      "displayName": "Susie",
      "userId": "08584928109216989221"
     },
     "user_tz": 420
    },
    "id": "5321928b",
    "outputId": "2b1be073-cef2-4085-e3ca-5861bcaba589"
   },
   "outputs": [
    {
     "name": "stdout",
     "output_type": "stream",
     "text": [
      "Found 2298 validated image filenames belonging to 5 classes.\n",
      "Found 494 validated image filenames belonging to 5 classes.\n",
      "Training ResNet50 model:\n"
     ]
    },
    {
     "name": "stderr",
     "output_type": "stream",
     "text": [
      "/usr/local/lib/python3.10/dist-packages/keras/preprocessing/image.py:989: UserWarning: Found 1 invalid image filename(s) in x_col=\"file_path\". These filename(s) will be ignored.\n",
      "  warnings.warn('Found {} invalid image filename(s) in x_col=\"{}\". '\n"
     ]
    },
    {
     "name": "stdout",
     "output_type": "stream",
     "text": [
      "Downloading data from https://storage.googleapis.com/tensorflow/keras-applications/resnet/resnet50_weights_tf_dim_ordering_tf_kernels_notop.h5\n",
      "94765736/94765736 [==============================] - 3s 0us/step\n",
      "Epoch 1/70\n",
      "115/115 [==============================] - ETA: 0s - loss: 1.5421 - accuracy: 0.3268\n",
      "Epoch 1: val_loss improved from inf to 1.63777, saving model to ResNet50.h5\n",
      "115/115 [==============================] - 65s 475ms/step - loss: 1.5421 - accuracy: 0.3268 - val_loss: 1.6378 - val_accuracy: 0.2267\n",
      "Epoch 2/70\n",
      "115/115 [==============================] - ETA: 0s - loss: 1.4565 - accuracy: 0.3673\n",
      "Epoch 2: val_loss improved from 1.63777 to 1.52772, saving model to ResNet50.h5\n",
      "115/115 [==============================] - 53s 464ms/step - loss: 1.4565 - accuracy: 0.3673 - val_loss: 1.5277 - val_accuracy: 0.3239\n",
      "Epoch 3/70\n",
      "115/115 [==============================] - ETA: 0s - loss: 1.4511 - accuracy: 0.3755\n",
      "Epoch 3: val_loss improved from 1.52772 to 1.41136, saving model to ResNet50.h5\n",
      "115/115 [==============================] - 53s 459ms/step - loss: 1.4511 - accuracy: 0.3755 - val_loss: 1.4114 - val_accuracy: 0.4474\n",
      "Epoch 4/70\n",
      "115/115 [==============================] - ETA: 0s - loss: 1.4045 - accuracy: 0.4021\n",
      "Epoch 4: val_loss improved from 1.41136 to 1.35417, saving model to ResNet50.h5\n",
      "115/115 [==============================] - 53s 457ms/step - loss: 1.4045 - accuracy: 0.4021 - val_loss: 1.3542 - val_accuracy: 0.4777\n",
      "Epoch 5/70\n",
      "115/115 [==============================] - ETA: 0s - loss: 1.3948 - accuracy: 0.4138\n",
      "Epoch 5: val_loss improved from 1.35417 to 1.29580, saving model to ResNet50.h5\n",
      "115/115 [==============================] - 53s 457ms/step - loss: 1.3948 - accuracy: 0.4138 - val_loss: 1.2958 - val_accuracy: 0.4615\n",
      "Epoch 6/70\n",
      "115/115 [==============================] - ETA: 0s - loss: 1.3823 - accuracy: 0.4182\n",
      "Epoch 6: val_loss improved from 1.29580 to 1.25525, saving model to ResNet50.h5\n",
      "115/115 [==============================] - 54s 469ms/step - loss: 1.3823 - accuracy: 0.4182 - val_loss: 1.2553 - val_accuracy: 0.4960\n",
      "Epoch 7/70\n",
      "115/115 [==============================] - ETA: 0s - loss: 1.3620 - accuracy: 0.4217\n",
      "Epoch 7: val_loss improved from 1.25525 to 1.22998, saving model to ResNet50.h5\n",
      "115/115 [==============================] - 53s 458ms/step - loss: 1.3620 - accuracy: 0.4217 - val_loss: 1.2300 - val_accuracy: 0.5020\n",
      "Epoch 8/70\n",
      "115/115 [==============================] - ETA: 0s - loss: 1.3496 - accuracy: 0.4330\n",
      "Epoch 8: val_loss improved from 1.22998 to 1.19389, saving model to ResNet50.h5\n",
      "115/115 [==============================] - 53s 462ms/step - loss: 1.3496 - accuracy: 0.4330 - val_loss: 1.1939 - val_accuracy: 0.5385\n",
      "Epoch 9/70\n",
      "115/115 [==============================] - ETA: 0s - loss: 1.3527 - accuracy: 0.4334\n",
      "Epoch 9: val_loss did not improve from 1.19389\n",
      "115/115 [==============================] - 52s 449ms/step - loss: 1.3527 - accuracy: 0.4334 - val_loss: 1.2243 - val_accuracy: 0.5121\n",
      "Epoch 10/70\n",
      "115/115 [==============================] - ETA: 0s - loss: 1.3526 - accuracy: 0.4291\n",
      "Epoch 10: val_loss improved from 1.19389 to 1.17944, saving model to ResNet50.h5\n",
      "115/115 [==============================] - 52s 454ms/step - loss: 1.3526 - accuracy: 0.4291 - val_loss: 1.1794 - val_accuracy: 0.5202\n",
      "Epoch 11/70\n",
      "115/115 [==============================] - ETA: 0s - loss: 1.3416 - accuracy: 0.4421\n",
      "Epoch 11: val_loss did not improve from 1.17944\n",
      "115/115 [==============================] - 52s 453ms/step - loss: 1.3416 - accuracy: 0.4421 - val_loss: 1.2135 - val_accuracy: 0.5425\n",
      "Epoch 12/70\n",
      "115/115 [==============================] - ETA: 0s - loss: 1.3283 - accuracy: 0.4526\n",
      "Epoch 12: val_loss did not improve from 1.17944\n",
      "115/115 [==============================] - 51s 447ms/step - loss: 1.3283 - accuracy: 0.4526 - val_loss: 1.2054 - val_accuracy: 0.5142\n",
      "Epoch 13/70\n",
      "115/115 [==============================] - ETA: 0s - loss: 1.3304 - accuracy: 0.4365\n",
      "Epoch 13: val_loss improved from 1.17944 to 1.16214, saving model to ResNet50.h5\n",
      "115/115 [==============================] - 52s 452ms/step - loss: 1.3304 - accuracy: 0.4365 - val_loss: 1.1621 - val_accuracy: 0.5223\n",
      "Epoch 14/70\n",
      "115/115 [==============================] - ETA: 0s - loss: 1.3250 - accuracy: 0.4352\n",
      "Epoch 14: val_loss improved from 1.16214 to 1.15532, saving model to ResNet50.h5\n",
      "115/115 [==============================] - 52s 455ms/step - loss: 1.3250 - accuracy: 0.4352 - val_loss: 1.1553 - val_accuracy: 0.5425\n",
      "Epoch 15/70\n",
      "115/115 [==============================] - ETA: 0s - loss: 1.3034 - accuracy: 0.4704\n",
      "Epoch 15: val_loss did not improve from 1.15532\n",
      "115/115 [==============================] - 52s 451ms/step - loss: 1.3034 - accuracy: 0.4704 - val_loss: 1.1851 - val_accuracy: 0.5364\n",
      "Epoch 16/70\n",
      "115/115 [==============================] - ETA: 0s - loss: 1.2963 - accuracy: 0.4630\n",
      "Epoch 16: val_loss did not improve from 1.15532\n",
      "115/115 [==============================] - 51s 446ms/step - loss: 1.2963 - accuracy: 0.4630 - val_loss: 1.1683 - val_accuracy: 0.5344\n",
      "Epoch 17/70\n",
      "115/115 [==============================] - ETA: 0s - loss: 1.2865 - accuracy: 0.4608\n",
      "Epoch 17: val_loss did not improve from 1.15532\n",
      "115/115 [==============================] - 52s 447ms/step - loss: 1.2865 - accuracy: 0.4608 - val_loss: 1.1564 - val_accuracy: 0.5547\n",
      "Epoch 18/70\n",
      "115/115 [==============================] - ETA: 0s - loss: 1.2721 - accuracy: 0.4669\n",
      "Epoch 18: val_loss did not improve from 1.15532\n",
      "115/115 [==============================] - 52s 449ms/step - loss: 1.2721 - accuracy: 0.4669 - val_loss: 1.1673 - val_accuracy: 0.5587\n",
      "Epoch 19/70\n",
      "115/115 [==============================] - ETA: 0s - loss: 1.2866 - accuracy: 0.4752\n",
      "Epoch 19: val_loss did not improve from 1.15532\n",
      "115/115 [==============================] - 51s 442ms/step - loss: 1.2866 - accuracy: 0.4752 - val_loss: 1.1660 - val_accuracy: 0.5607\n",
      "Epoch 19: early stopping\n"
     ]
    },
    {
     "data": {
      "image/png": "[encoded data removed]",
      "text/plain": [
       "<Figure size 1000x500 with 1 Axes>"
      ]
     },
     "metadata": {},
     "output_type": "display_data"
    },
    {
     "name": "stdout",
     "output_type": "stream",
     "text": [
      "Found 487 validated image filenames belonging to 5 classes.\n",
      "115/115 [==============================] - 48s 410ms/step\n",
      "ResNet50 Evaluation Metrics:\n",
      "Confusion Matrix:\n",
      "[[135  31  94 131 124]\n",
      " [112  31  63  83  56]\n",
      " [119  32  79 115  99]\n",
      " [127  37  69 151 117]\n",
      " [150  41  88 117  97]]\n",
      "Precision: 0.21030317925419106\n",
      "Recall: 0.2145343777197563\n",
      "Accuracy: 0.2145343777197563\n",
      "F1 Score: 0.2089044656353825\n",
      "25/25 [==============================] - 4s 162ms/step\n",
      "ResNet50 Evaluation Metrics:\n",
      "Confusion Matrix:\n",
      "[[70  7 14 11  7]\n",
      " [10 36 11  3 13]\n",
      " [13  7 53  7 14]\n",
      " [32  1 13 53  7]\n",
      " [22  2 14  2 65]]\n",
      "Precision: 0.5898257324377155\n",
      "Recall: 0.5687885010266941\n",
      "Accuracy: 0.5687885010266941\n",
      "F1 Score: 0.5704768364215719\n",
      "Training EfficientNetB0 model:\n",
      "Downloading data from https://storage.googleapis.com/keras-applications/efficientnetb0_notop.h5\n",
      "16705208/16705208 [==============================] - 1s 0us/step\n",
      "Epoch 1/70\n",
      "115/115 [==============================] - ETA: 0s - loss: 1.7076 - accuracy: 0.2202\n",
      "Epoch 1: val_loss improved from inf to 1.60184, saving model to EfficientNetB0.h5\n",
      "115/115 [==============================] - 59s 458ms/step - loss: 1.7076 - accuracy: 0.2202 - val_loss: 1.6018 - val_accuracy: 0.2227\n",
      "Epoch 2/70\n",
      "115/115 [==============================] - ETA: 0s - loss: 1.6674 - accuracy: 0.2563\n",
      "Epoch 2: val_loss improved from 1.60184 to 1.59458, saving model to EfficientNetB0.h5\n",
      "115/115 [==============================] - 53s 460ms/step - loss: 1.6674 - accuracy: 0.2563 - val_loss: 1.5946 - val_accuracy: 0.2227\n",
      "Epoch 3/70\n",
      "115/115 [==============================] - ETA: 0s - loss: 1.6784 - accuracy: 0.2576\n",
      "Epoch 3: val_loss improved from 1.59458 to 1.58356, saving model to EfficientNetB0.h5\n",
      "115/115 [==============================] - 51s 444ms/step - loss: 1.6784 - accuracy: 0.2576 - val_loss: 1.5836 - val_accuracy: 0.3016\n",
      "Epoch 4/70\n",
      "115/115 [==============================] - ETA: 0s - loss: 1.6880 - accuracy: 0.2463\n",
      "Epoch 4: val_loss improved from 1.58356 to 1.56907, saving model to EfficientNetB0.h5\n",
      "115/115 [==============================] - 52s 448ms/step - loss: 1.6880 - accuracy: 0.2463 - val_loss: 1.5691 - val_accuracy: 0.3846\n",
      "Epoch 5/70\n",
      "115/115 [==============================] - ETA: 0s - loss: 1.6617 - accuracy: 0.2620\n",
      "Epoch 5: val_loss improved from 1.56907 to 1.56294, saving model to EfficientNetB0.h5\n",
      "115/115 [==============================] - 51s 442ms/step - loss: 1.6617 - accuracy: 0.2620 - val_loss: 1.5629 - val_accuracy: 0.2510\n",
      "Epoch 6/70\n",
      "115/115 [==============================] - ETA: 0s - loss: 1.6595 - accuracy: 0.2459\n",
      "Epoch 6: val_loss improved from 1.56294 to 1.55543, saving model to EfficientNetB0.h5\n",
      "115/115 [==============================] - 52s 447ms/step - loss: 1.6595 - accuracy: 0.2459 - val_loss: 1.5554 - val_accuracy: 0.2429\n",
      "Epoch 7/70\n",
      "115/115 [==============================] - ETA: 0s - loss: 1.6416 - accuracy: 0.2615\n",
      "Epoch 7: val_loss improved from 1.55543 to 1.53195, saving model to EfficientNetB0.h5\n",
      "115/115 [==============================] - 52s 452ms/step - loss: 1.6416 - accuracy: 0.2615 - val_loss: 1.5320 - val_accuracy: 0.3846\n",
      "Epoch 8/70\n",
      "115/115 [==============================] - ETA: 0s - loss: 1.6463 - accuracy: 0.2563\n",
      "Epoch 8: val_loss improved from 1.53195 to 1.52091, saving model to EfficientNetB0.h5\n",
      "115/115 [==============================] - 51s 443ms/step - loss: 1.6463 - accuracy: 0.2563 - val_loss: 1.5209 - val_accuracy: 0.3259\n",
      "Epoch 9/70\n",
      "115/115 [==============================] - ETA: 0s - loss: 1.6282 - accuracy: 0.2711\n",
      "Epoch 9: val_loss did not improve from 1.52091\n",
      "115/115 [==============================] - 51s 441ms/step - loss: 1.6282 - accuracy: 0.2711 - val_loss: 1.5259 - val_accuracy: 0.3016\n",
      "Epoch 10/70\n",
      "115/115 [==============================] - ETA: 0s - loss: 1.6240 - accuracy: 0.2811\n",
      "Epoch 10: val_loss improved from 1.52091 to 1.51179, saving model to EfficientNetB0.h5\n",
      "115/115 [==============================] - 51s 441ms/step - loss: 1.6240 - accuracy: 0.2811 - val_loss: 1.5118 - val_accuracy: 0.3360\n",
      "Epoch 11/70\n",
      "115/115 [==============================] - ETA: 0s - loss: 1.6085 - accuracy: 0.2668\n",
      "Epoch 11: val_loss improved from 1.51179 to 1.51094, saving model to EfficientNetB0.h5\n",
      "115/115 [==============================] - 51s 445ms/step - loss: 1.6085 - accuracy: 0.2668 - val_loss: 1.5109 - val_accuracy: 0.2996\n",
      "Epoch 12/70\n",
      "115/115 [==============================] - ETA: 0s - loss: 1.6257 - accuracy: 0.2750\n",
      "Epoch 12: val_loss improved from 1.51094 to 1.50408, saving model to EfficientNetB0.h5\n",
      "115/115 [==============================] - 51s 444ms/step - loss: 1.6257 - accuracy: 0.2750 - val_loss: 1.5041 - val_accuracy: 0.3846\n",
      "Epoch 13/70\n",
      "115/115 [==============================] - ETA: 0s - loss: 1.6177 - accuracy: 0.2685\n",
      "Epoch 13: val_loss did not improve from 1.50408\n",
      "115/115 [==============================] - 52s 450ms/step - loss: 1.6177 - accuracy: 0.2685 - val_loss: 1.5183 - val_accuracy: 0.2632\n",
      "Epoch 14/70\n",
      "115/115 [==============================] - ETA: 0s - loss: 1.6201 - accuracy: 0.2694\n",
      "Epoch 14: val_loss improved from 1.50408 to 1.49680, saving model to EfficientNetB0.h5\n",
      "115/115 [==============================] - 51s 444ms/step - loss: 1.6201 - accuracy: 0.2694 - val_loss: 1.4968 - val_accuracy: 0.3198\n",
      "Epoch 15/70\n",
      "115/115 [==============================] - ETA: 0s - loss: 1.6071 - accuracy: 0.2698\n",
      "Epoch 15: val_loss did not improve from 1.49680\n",
      "115/115 [==============================] - 51s 444ms/step - loss: 1.6071 - accuracy: 0.2698 - val_loss: 1.5016 - val_accuracy: 0.3198\n",
      "Epoch 16/70\n",
      "115/115 [==============================] - ETA: 0s - loss: 1.6147 - accuracy: 0.2572\n",
      "Epoch 16: val_loss did not improve from 1.49680\n",
      "115/115 [==============================] - 51s 441ms/step - loss: 1.6147 - accuracy: 0.2572 - val_loss: 1.4971 - val_accuracy: 0.2773\n",
      "Epoch 17/70\n",
      "115/115 [==============================] - ETA: 0s - loss: 1.5884 - accuracy: 0.3042\n",
      "Epoch 17: val_loss did not improve from 1.49680\n",
      "115/115 [==============================] - 51s 445ms/step - loss: 1.5884 - accuracy: 0.3042 - val_loss: 1.4975 - val_accuracy: 0.3623\n",
      "Epoch 18/70\n",
      "115/115 [==============================] - ETA: 0s - loss: 1.6063 - accuracy: 0.2689\n",
      "Epoch 18: val_loss improved from 1.49680 to 1.48847, saving model to EfficientNetB0.h5\n",
      "115/115 [==============================] - 51s 443ms/step - loss: 1.6063 - accuracy: 0.2689 - val_loss: 1.4885 - val_accuracy: 0.3401\n",
      "Epoch 19/70\n",
      "115/115 [==============================] - ETA: 0s - loss: 1.6107 - accuracy: 0.2646\n",
      "Epoch 19: val_loss did not improve from 1.48847\n",
      "115/115 [==============================] - 51s 443ms/step - loss: 1.6107 - accuracy: 0.2646 - val_loss: 1.4930 - val_accuracy: 0.3664\n",
      "Epoch 20/70\n",
      "115/115 [==============================] - ETA: 0s - loss: 1.6021 - accuracy: 0.2889\n",
      "Epoch 20: val_loss improved from 1.48847 to 1.47518, saving model to EfficientNetB0.h5\n",
      "115/115 [==============================] - 50s 438ms/step - loss: 1.6021 - accuracy: 0.2889 - val_loss: 1.4752 - val_accuracy: 0.4211\n",
      "Epoch 21/70\n",
      "115/115 [==============================] - ETA: 0s - loss: 1.6041 - accuracy: 0.2681\n",
      "Epoch 21: val_loss did not improve from 1.47518\n",
      "115/115 [==============================] - 51s 440ms/step - loss: 1.6041 - accuracy: 0.2681 - val_loss: 1.4799 - val_accuracy: 0.3239\n",
      "Epoch 22/70\n",
      "115/115 [==============================] - ETA: 0s - loss: 1.6084 - accuracy: 0.2711\n",
      "Epoch 22: val_loss improved from 1.47518 to 1.47445, saving model to EfficientNetB0.h5\n",
      "115/115 [==============================] - 50s 439ms/step - loss: 1.6084 - accuracy: 0.2711 - val_loss: 1.4744 - val_accuracy: 0.4150\n",
      "Epoch 23/70\n",
      "115/115 [==============================] - ETA: 0s - loss: 1.5995 - accuracy: 0.2794\n",
      "Epoch 23: val_loss did not improve from 1.47445\n",
      "115/115 [==============================] - 51s 440ms/step - loss: 1.5995 - accuracy: 0.2794 - val_loss: 1.4818 - val_accuracy: 0.3583\n",
      "Epoch 24/70\n",
      "115/115 [==============================] - ETA: 0s - loss: 1.5938 - accuracy: 0.2772\n",
      "Epoch 24: val_loss improved from 1.47445 to 1.46946, saving model to EfficientNetB0.h5\n",
      "115/115 [==============================] - 50s 438ms/step - loss: 1.5938 - accuracy: 0.2772 - val_loss: 1.4695 - val_accuracy: 0.4150\n",
      "Epoch 25/70\n",
      "115/115 [==============================] - ETA: 0s - loss: 1.5954 - accuracy: 0.2829\n",
      "Epoch 25: val_loss did not improve from 1.46946\n",
      "115/115 [==============================] - 51s 446ms/step - loss: 1.5954 - accuracy: 0.2829 - val_loss: 1.4863 - val_accuracy: 0.2915\n",
      "Epoch 26/70\n",
      "115/115 [==============================] - ETA: 0s - loss: 1.6049 - accuracy: 0.2781\n",
      "Epoch 26: val_loss did not improve from 1.46946\n",
      "115/115 [==============================] - 50s 438ms/step - loss: 1.6049 - accuracy: 0.2781 - val_loss: 1.5188 - val_accuracy: 0.2672\n",
      "Epoch 27/70\n",
      "115/115 [==============================] - ETA: 0s - loss: 1.5922 - accuracy: 0.2894\n",
      "Epoch 27: val_loss did not improve from 1.46946\n",
      "115/115 [==============================] - 51s 441ms/step - loss: 1.5922 - accuracy: 0.2894 - val_loss: 1.4730 - val_accuracy: 0.3664\n",
      "Epoch 28/70\n",
      "115/115 [==============================] - ETA: 0s - loss: 1.5941 - accuracy: 0.2907\n",
      "Epoch 28: val_loss did not improve from 1.46946\n",
      "115/115 [==============================] - 50s 439ms/step - loss: 1.5941 - accuracy: 0.2907 - val_loss: 1.4776 - val_accuracy: 0.3198\n",
      "Epoch 29/70\n",
      "115/115 [==============================] - ETA: 0s - loss: 1.6162 - accuracy: 0.2607\n",
      "Epoch 29: val_loss improved from 1.46946 to 1.46493, saving model to EfficientNetB0.h5\n",
      "115/115 [==============================] - 51s 443ms/step - loss: 1.6162 - accuracy: 0.2607 - val_loss: 1.4649 - val_accuracy: 0.3765\n",
      "Epoch 30/70\n",
      "115/115 [==============================] - ETA: 0s - loss: 1.5812 - accuracy: 0.2959\n",
      "Epoch 30: val_loss improved from 1.46493 to 1.46168, saving model to EfficientNetB0.h5\n",
      "115/115 [==============================] - 52s 448ms/step - loss: 1.5812 - accuracy: 0.2959 - val_loss: 1.4617 - val_accuracy: 0.4089\n",
      "Epoch 31/70\n",
      "115/115 [==============================] - ETA: 0s - loss: 1.5921 - accuracy: 0.2850\n",
      "Epoch 31: val_loss improved from 1.46168 to 1.45552, saving model to EfficientNetB0.h5\n",
      "115/115 [==============================] - 52s 449ms/step - loss: 1.5921 - accuracy: 0.2850 - val_loss: 1.4555 - val_accuracy: 0.4211\n",
      "Epoch 32/70\n",
      "115/115 [==============================] - ETA: 0s - loss: 1.5990 - accuracy: 0.2859\n",
      "Epoch 32: val_loss did not improve from 1.45552\n",
      "115/115 [==============================] - 50s 434ms/step - loss: 1.5990 - accuracy: 0.2859 - val_loss: 1.4617 - val_accuracy: 0.3522\n",
      "Epoch 33/70\n",
      "115/115 [==============================] - ETA: 0s - loss: 1.5870 - accuracy: 0.2855\n",
      "Epoch 33: val_loss did not improve from 1.45552\n",
      "115/115 [==============================] - 51s 440ms/step - loss: 1.5870 - accuracy: 0.2855 - val_loss: 1.4781 - val_accuracy: 0.3158\n",
      "Epoch 34/70\n",
      "115/115 [==============================] - ETA: 0s - loss: 1.5902 - accuracy: 0.2750\n",
      "Epoch 34: val_loss did not improve from 1.45552\n",
      "115/115 [==============================] - 50s 435ms/step - loss: 1.5902 - accuracy: 0.2750 - val_loss: 1.4606 - val_accuracy: 0.3259\n",
      "Epoch 35/70\n",
      "115/115 [==============================] - ETA: 0s - loss: 1.5704 - accuracy: 0.3046\n",
      "Epoch 35: val_loss did not improve from 1.45552\n",
      "115/115 [==============================] - 51s 441ms/step - loss: 1.5704 - accuracy: 0.3046 - val_loss: 1.4613 - val_accuracy: 0.3684\n",
      "Epoch 36/70\n",
      "115/115 [==============================] - ETA: 0s - loss: 1.6009 - accuracy: 0.2842\n",
      "Epoch 36: val_loss did not improve from 1.45552\n",
      "115/115 [==============================] - 50s 436ms/step - loss: 1.6009 - accuracy: 0.2842 - val_loss: 1.4630 - val_accuracy: 0.3259\n",
      "Epoch 36: early stopping\n"
     ]
    },
    {
     "data": {
      "image/png": "[encoded data removed]",
      "text/plain": [
       "<Figure size 1000x500 with 1 Axes>"
      ]
     },
     "metadata": {},
     "output_type": "display_data"
    },
    {
     "name": "stdout",
     "output_type": "stream",
     "text": [
      "Found 487 validated image filenames belonging to 5 classes.\n",
      "115/115 [==============================] - 48s 409ms/step\n",
      "EfficientNetB0 Evaluation Metrics:\n",
      "Confusion Matrix:\n",
      "[[222  16   0 160 117]\n",
      " [150   5   0 107  83]\n",
      " [192   9   0 142 101]\n",
      " [207  10   0 160 124]\n",
      " [227  10   0 132 124]]\n",
      "Precision: 0.16308163348687743\n",
      "Recall: 0.22236727589208008\n",
      "Accuracy: 0.22236727589208008\n",
      "F1 Score: 0.1786675276098718\n"
     ]
    },
    {
     "name": "stderr",
     "output_type": "stream",
     "text": [
      "/usr/local/lib/python3.10/dist-packages/sklearn/metrics/_classification.py:1344: UndefinedMetricWarning: Precision is ill-defined and being set to 0.0 in labels with no predicted samples. Use `zero_division` parameter to control this behavior.\n",
      "  _warn_prf(average, modifier, msg_start, len(result))\n"
     ]
    },
    {
     "name": "stdout",
     "output_type": "stream",
     "text": [
      "25/25 [==============================] - 4s 155ms/step\n",
      "EfficientNetB0 Evaluation Metrics:\n",
      "Confusion Matrix:\n",
      "[[71  1  0 13 24]\n",
      " [11  4  0  8 50]\n",
      " [26  4  0 27 37]\n",
      " [29  2  0 54 21]\n",
      " [35  2  0  2 66]]\n",
      "Precision: 0.3233966859271286\n",
      "Recall: 0.4004106776180698\n",
      "Accuracy: 0.4004106776180698\n",
      "F1 Score: 0.33291459585202854\n",
      "Training VGG16 model:\n",
      "Downloading data from https://storage.googleapis.com/tensorflow/keras-applications/vgg16/vgg16_weights_tf_dim_ordering_tf_kernels_notop.h5\n"
     ]
    },
    {
     "name": "stderr",
     "output_type": "stream",
     "text": [
      "/usr/local/lib/python3.10/dist-packages/sklearn/metrics/_classification.py:1344: UndefinedMetricWarning: Precision is ill-defined and being set to 0.0 in labels with no predicted samples. Use `zero_division` parameter to control this behavior.\n",
      "  _warn_prf(average, modifier, msg_start, len(result))\n"
     ]
    },
    {
     "name": "stdout",
     "output_type": "stream",
     "text": [
      "58889256/58889256 [==============================] - 2s 0us/step\n",
      "Epoch 1/70\n",
      "115/115 [==============================] - ETA: 0s - loss: 1.2294 - accuracy: 0.5126\n",
      "Epoch 1: val_loss improved from inf to 1.34063, saving model to VGG16.h5\n",
      "115/115 [==============================] - 59s 490ms/step - loss: 1.2294 - accuracy: 0.5126 - val_loss: 1.3406 - val_accuracy: 0.5607\n",
      "Epoch 2/70\n",
      "115/115 [==============================] - ETA: 0s - loss: 0.9007 - accuracy: 0.6597\n",
      "Epoch 2: val_loss improved from 1.34063 to 1.07214, saving model to VGG16.h5\n",
      "115/115 [==============================] - 53s 462ms/step - loss: 0.9007 - accuracy: 0.6597 - val_loss: 1.0721 - val_accuracy: 0.7186\n",
      "Epoch 3/70\n",
      "115/115 [==============================] - ETA: 0s - loss: 0.8040 - accuracy: 0.6928\n",
      "Epoch 3: val_loss improved from 1.07214 to 0.81702, saving model to VGG16.h5\n",
      "115/115 [==============================] - 53s 459ms/step - loss: 0.8040 - accuracy: 0.6928 - val_loss: 0.8170 - val_accuracy: 0.7571\n",
      "Epoch 4/70\n",
      "115/115 [==============================] - ETA: 0s - loss: 0.7181 - accuracy: 0.7437\n",
      "Epoch 4: val_loss improved from 0.81702 to 0.68032, saving model to VGG16.h5\n",
      "115/115 [==============================] - 53s 460ms/step - loss: 0.7181 - accuracy: 0.7437 - val_loss: 0.6803 - val_accuracy: 0.7814\n",
      "Epoch 5/70\n",
      "115/115 [==============================] - ETA: 0s - loss: 0.6955 - accuracy: 0.7567\n",
      "Epoch 5: val_loss improved from 0.68032 to 0.59304, saving model to VGG16.h5\n",
      "115/115 [==============================] - 53s 458ms/step - loss: 0.6955 - accuracy: 0.7567 - val_loss: 0.5930 - val_accuracy: 0.8016\n",
      "Epoch 6/70\n",
      "115/115 [==============================] - ETA: 0s - loss: 0.6684 - accuracy: 0.7528\n",
      "Epoch 6: val_loss improved from 0.59304 to 0.54979, saving model to VGG16.h5\n",
      "115/115 [==============================] - 53s 459ms/step - loss: 0.6684 - accuracy: 0.7528 - val_loss: 0.5498 - val_accuracy: 0.8036\n",
      "Epoch 7/70\n",
      "115/115 [==============================] - ETA: 0s - loss: 0.6150 - accuracy: 0.7807\n",
      "Epoch 7: val_loss improved from 0.54979 to 0.52218, saving model to VGG16.h5\n",
      "115/115 [==============================] - 53s 461ms/step - loss: 0.6150 - accuracy: 0.7807 - val_loss: 0.5222 - val_accuracy: 0.8138\n",
      "Epoch 8/70\n",
      "115/115 [==============================] - ETA: 0s - loss: 0.5807 - accuracy: 0.7889\n",
      "Epoch 8: val_loss did not improve from 0.52218\n",
      "115/115 [==============================] - 52s 452ms/step - loss: 0.5807 - accuracy: 0.7889 - val_loss: 0.5273 - val_accuracy: 0.8178\n",
      "Epoch 9/70\n",
      "115/115 [==============================] - ETA: 0s - loss: 0.5776 - accuracy: 0.7946\n",
      "Epoch 9: val_loss improved from 0.52218 to 0.50442, saving model to VGG16.h5\n",
      "115/115 [==============================] - 53s 457ms/step - loss: 0.5776 - accuracy: 0.7946 - val_loss: 0.5044 - val_accuracy: 0.8158\n",
      "Epoch 10/70\n",
      "115/115 [==============================] - ETA: 0s - loss: 0.5707 - accuracy: 0.7929\n",
      "Epoch 10: val_loss improved from 0.50442 to 0.48581, saving model to VGG16.h5\n",
      "115/115 [==============================] - 52s 455ms/step - loss: 0.5707 - accuracy: 0.7929 - val_loss: 0.4858 - val_accuracy: 0.8300\n",
      "Epoch 11/70\n",
      "115/115 [==============================] - ETA: 0s - loss: 0.5505 - accuracy: 0.7972\n",
      "Epoch 11: val_loss improved from 0.48581 to 0.47708, saving model to VGG16.h5\n",
      "115/115 [==============================] - 53s 456ms/step - loss: 0.5505 - accuracy: 0.7972 - val_loss: 0.4771 - val_accuracy: 0.8320\n",
      "Epoch 12/70\n",
      "115/115 [==============================] - ETA: 0s - loss: 0.5169 - accuracy: 0.8242\n",
      "Epoch 12: val_loss did not improve from 0.47708\n",
      "115/115 [==============================] - 53s 463ms/step - loss: 0.5169 - accuracy: 0.8242 - val_loss: 0.4836 - val_accuracy: 0.8219\n",
      "Epoch 13/70\n",
      "115/115 [==============================] - ETA: 0s - loss: 0.5031 - accuracy: 0.8194\n",
      "Epoch 13: val_loss improved from 0.47708 to 0.46607, saving model to VGG16.h5\n",
      "115/115 [==============================] - 53s 459ms/step - loss: 0.5031 - accuracy: 0.8194 - val_loss: 0.4661 - val_accuracy: 0.8340\n",
      "Epoch 14/70\n",
      "115/115 [==============================] - ETA: 0s - loss: 0.4936 - accuracy: 0.8246\n",
      "Epoch 14: val_loss did not improve from 0.46607\n",
      "115/115 [==============================] - 52s 454ms/step - loss: 0.4936 - accuracy: 0.8246 - val_loss: 0.4700 - val_accuracy: 0.8279\n",
      "Epoch 15/70\n",
      "115/115 [==============================] - ETA: 0s - loss: 0.4901 - accuracy: 0.8242\n",
      "Epoch 15: val_loss did not improve from 0.46607\n",
      "115/115 [==============================] - 53s 457ms/step - loss: 0.4901 - accuracy: 0.8242 - val_loss: 0.4795 - val_accuracy: 0.8381\n",
      "Epoch 16/70\n",
      "115/115 [==============================] - ETA: 0s - loss: 0.4837 - accuracy: 0.8190\n",
      "Epoch 16: val_loss did not improve from 0.46607\n",
      "115/115 [==============================] - 52s 454ms/step - loss: 0.4837 - accuracy: 0.8190 - val_loss: 0.4727 - val_accuracy: 0.8421\n",
      "Epoch 17/70\n",
      "115/115 [==============================] - ETA: 0s - loss: 0.4717 - accuracy: 0.8325\n",
      "Epoch 17: val_loss improved from 0.46607 to 0.45252, saving model to VGG16.h5\n",
      "115/115 [==============================] - 53s 458ms/step - loss: 0.4717 - accuracy: 0.8325 - val_loss: 0.4525 - val_accuracy: 0.8543\n",
      "Epoch 18/70\n",
      "115/115 [==============================] - ETA: 0s - loss: 0.4371 - accuracy: 0.8460\n",
      "Epoch 18: val_loss improved from 0.45252 to 0.45163, saving model to VGG16.h5\n",
      "115/115 [==============================] - 53s 456ms/step - loss: 0.4371 - accuracy: 0.8460 - val_loss: 0.4516 - val_accuracy: 0.8441\n",
      "Epoch 19/70\n",
      "115/115 [==============================] - ETA: 0s - loss: 0.4497 - accuracy: 0.8412\n",
      "Epoch 19: val_loss improved from 0.45163 to 0.44745, saving model to VGG16.h5\n",
      "115/115 [==============================] - 52s 452ms/step - loss: 0.4497 - accuracy: 0.8412 - val_loss: 0.4475 - val_accuracy: 0.8441\n",
      "Epoch 20/70\n",
      "115/115 [==============================] - ETA: 0s - loss: 0.4387 - accuracy: 0.8442\n",
      "Epoch 20: val_loss improved from 0.44745 to 0.43933, saving model to VGG16.h5\n",
      "115/115 [==============================] - 53s 456ms/step - loss: 0.4387 - accuracy: 0.8442 - val_loss: 0.4393 - val_accuracy: 0.8522\n",
      "Epoch 21/70\n",
      "115/115 [==============================] - ETA: 0s - loss: 0.4438 - accuracy: 0.8394\n",
      "Epoch 21: val_loss did not improve from 0.43933\n",
      "115/115 [==============================] - 52s 450ms/step - loss: 0.4438 - accuracy: 0.8394 - val_loss: 0.4401 - val_accuracy: 0.8563\n",
      "Epoch 22/70\n",
      "115/115 [==============================] - ETA: 0s - loss: 0.4129 - accuracy: 0.8542\n",
      "Epoch 22: val_loss improved from 0.43933 to 0.42142, saving model to VGG16.h5\n",
      "115/115 [==============================] - 53s 458ms/step - loss: 0.4129 - accuracy: 0.8542 - val_loss: 0.4214 - val_accuracy: 0.8583\n",
      "Epoch 23/70\n",
      "115/115 [==============================] - ETA: 0s - loss: 0.4202 - accuracy: 0.8451\n",
      "Epoch 23: val_loss improved from 0.42142 to 0.41764, saving model to VGG16.h5\n",
      "115/115 [==============================] - 52s 452ms/step - loss: 0.4202 - accuracy: 0.8451 - val_loss: 0.4176 - val_accuracy: 0.8583\n",
      "Epoch 24/70\n",
      "115/115 [==============================] - ETA: 0s - loss: 0.4061 - accuracy: 0.8525\n",
      "Epoch 24: val_loss did not improve from 0.41764\n",
      "115/115 [==============================] - 53s 459ms/step - loss: 0.4061 - accuracy: 0.8525 - val_loss: 0.4256 - val_accuracy: 0.8603\n",
      "Epoch 25/70\n",
      "115/115 [==============================] - ETA: 0s - loss: 0.4320 - accuracy: 0.8420\n",
      "Epoch 25: val_loss improved from 0.41764 to 0.40953, saving model to VGG16.h5\n",
      "115/115 [==============================] - 52s 452ms/step - loss: 0.4320 - accuracy: 0.8420 - val_loss: 0.4095 - val_accuracy: 0.8684\n",
      "Epoch 26/70\n",
      "115/115 [==============================] - ETA: 0s - loss: 0.4195 - accuracy: 0.8490\n",
      "Epoch 26: val_loss did not improve from 0.40953\n",
      "115/115 [==============================] - 52s 450ms/step - loss: 0.4195 - accuracy: 0.8490 - val_loss: 0.4313 - val_accuracy: 0.8543\n",
      "Epoch 27/70\n",
      "115/115 [==============================] - ETA: 0s - loss: 0.3948 - accuracy: 0.8586\n",
      "Epoch 27: val_loss did not improve from 0.40953\n",
      "115/115 [==============================] - 52s 455ms/step - loss: 0.3948 - accuracy: 0.8586 - val_loss: 0.4196 - val_accuracy: 0.8563\n",
      "Epoch 28/70\n",
      "115/115 [==============================] - ETA: 0s - loss: 0.3937 - accuracy: 0.8686\n",
      "Epoch 28: val_loss did not improve from 0.40953\n",
      "115/115 [==============================] - 52s 454ms/step - loss: 0.3937 - accuracy: 0.8686 - val_loss: 0.4121 - val_accuracy: 0.8603\n",
      "Epoch 29/70\n",
      "115/115 [==============================] - ETA: 0s - loss: 0.3994 - accuracy: 0.8577\n",
      "Epoch 29: val_loss did not improve from 0.40953\n",
      "115/115 [==============================] - 53s 458ms/step - loss: 0.3994 - accuracy: 0.8577 - val_loss: 0.4202 - val_accuracy: 0.8583\n",
      "Epoch 30/70\n",
      "115/115 [==============================] - ETA: 0s - loss: 0.3793 - accuracy: 0.8612\n",
      "Epoch 30: val_loss did not improve from 0.40953\n",
      "115/115 [==============================] - 53s 458ms/step - loss: 0.3793 - accuracy: 0.8612 - val_loss: 0.4111 - val_accuracy: 0.8543\n",
      "Epoch 30: early stopping\n"
     ]
    },
    {
     "data": {
      "image/png": "[encoded data removed]",
      "text/plain": [
       "<Figure size 1000x500 with 1 Axes>"
      ]
     },
     "metadata": {},
     "output_type": "display_data"
    },
    {
     "name": "stdout",
     "output_type": "stream",
     "text": [
      "Found 487 validated image filenames belonging to 5 classes.\n",
      "115/115 [==============================] - 48s 413ms/step\n",
      "VGG16 Evaluation Metrics:\n",
      "Confusion Matrix:\n",
      "[[118  75 104 120  98]\n",
      " [ 65  51  71  83  75]\n",
      " [106  62  81  98  97]\n",
      " [132  60 103  97 109]\n",
      " [124  75  94 106  94]]\n",
      "Precision: 0.1913691248529467\n",
      "Recall: 0.1919060052219321\n",
      "Accuracy: 0.1919060052219321\n",
      "F1 Score: 0.19155088188877456\n",
      "25/25 [==============================] - 5s 193ms/step\n",
      "VGG16 Evaluation Metrics:\n",
      "Confusion Matrix:\n",
      "[[97  2  1  6  3]\n",
      " [ 1 65  0  1  6]\n",
      " [ 3  4 81  4  2]\n",
      " [ 6  4  4 86  6]\n",
      " [ 2  5  6  3 89]]\n",
      "Precision: 0.8591247370096672\n",
      "Recall: 0.8583162217659137\n",
      "Accuracy: 0.8583162217659137\n",
      "F1 Score: 0.8582754927183777\n"
     ]
    }
   ],
   "source": [
    "train_generator, val_generator, _, _ = image_data_generator()\n",
    "num_classes =5\n",
    "pretrained_models = {'ResNet50': ResNet50, 'EfficientNetB0': EfficientNetB0, 'VGG16': VGG16}\n",
    "train_model_history_list = []\n",
    "\n",
    "for model_name, pretrained_model in pretrained_models.items():\n",
    "    print(f\"Training {model_name} model:\")\n",
    "\n",
    "    base_model = pretrained_model(weights='imagenet', include_top=False, input_shape=(256, 256, 3))\n",
    "    for layer in base_model.layers:\n",
    "        layer.trainable = False\n",
    "\n",
    "    model = transfer_learning_model(base_model, num_classes)\n",
    "    train_model_history = train_model(model, train_generator, val_generator, epochs=70, model_name=model_name)\n",
    "    train_model_history_list.append(train_model_history)\n",
    "\n",
    "    # plot error vs epochs\n",
    "    plot_model_history(train_model_history, model_name)\n",
    "\n",
    "    # best model\n",
    "    model.load_weights(f\"{model_name}.h5\")\n",
    "\n",
    "    # create test generator\n",
    "    file_paths, class_list = file_paths_generator(directory_name = ['test'])\n",
    "    test_df = pd.DataFrame({\n",
    "          'file_path' : file_paths,\n",
    "          'class': class_list\n",
    "      })\n",
    "\n",
    "    test_generator = ImageDataGenerator(rescale=1. / 255)\n",
    "    test_generator = test_generator.flow_from_dataframe(\n",
    "        test_df,\n",
    "        x_col = 'file_path',\n",
    "        y_col = 'class',\n",
    "        target_size=(256, 256),\n",
    "        batch_size=20,\n",
    "        class_mode='categorical',\n",
    "        shuffle=False)  \n",
    "\n",
    "    # report train result\n",
    "    y_true = train_generator.classes\n",
    "    y_pred = np.argmax(model.predict(train_generator), axis=-1)\n",
    "\n",
    "    metrics =report_result(y_true, y_pred)\n",
    "    print(f\"{model_name} Evaluation Metrics:\")\n",
    "    print(f\"Confusion Matrix:\\n{metrics['confusion_matrix']}\")\n",
    "    print(f\"Precision: {metrics['precision']}\")\n",
    "    print(f\"Recall: {metrics['recall']}\")\n",
    "    print(f\"Accuracy: {metrics['accuracy']}\")\n",
    "    print(f\"F1 Score: {metrics['f1_score']}\")\n",
    "    \n",
    "    # report test result\n",
    "    y_true = test_generator.classes\n",
    "    y_pred = np.argmax(model.predict(test_generator), axis=-1)\n",
    "\n",
    "    metrics =report_result(y_true, y_pred)\n",
    "    print(f\"{model_name} Evaluation Metrics:\")\n",
    "    print(f\"Confusion Matrix:\\n{metrics['confusion_matrix']}\")\n",
    "    print(f\"Precision: {metrics['precision']}\")\n",
    "    print(f\"Recall: {metrics['recall']}\")\n",
    "    print(f\"Accuracy: {metrics['accuracy']}\")\n",
    "    print(f\"F1 Score: {metrics['f1_score']}\")"
   ]
  },
  {
   "cell_type": "markdown",
   "id": "Fbp6GL0GSTcF",
   "metadata": {
    "id": "Fbp6GL0GSTcF"
   },
   "source": [
    "#### Result:\n",
    "In transfer learning for image classification, the trained models are saved as 'ResNet50.h5', 'EfficientNetB0.h5', and 'VGG16.h5'. To clarify the final results, I intercepted them from the above process.\n",
    "\n",
    "a. Result from ResNet50\n",
    "\n",
    "i. Plot errors vs epochs\n",
    "\n",
    "![1.png](data:image/png;base64,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)\n",
    "\n",
    "ii. Report\n",
    "```\n",
    "### ResNet50 on training set\n",
    "Confusion Matrix:\n",
    "[[135  31  94 131 124]\n",
    " [112  31  63  83  56]\n",
    " [119  32  79 115  99]\n",
    " [127  37  69 151 117]\n",
    " [150  41  88 117  97]]\n",
    "Precision: 0.21030317925419106\n",
    "Recall: 0.2145343777197563\n",
    "Accuracy: 0.2145343777197563\n",
    "F1 Score: 0.2089044656353825\n",
    "\n",
    "### ResNet50 on test set\n",
    "Confusion Matrix:\n",
    "[[70  7 14 11  7]\n",
    " [10 36 11  3 13]\n",
    " [13  7 53  7 14]\n",
    " [32  1 13 53  7]\n",
    " [22  2 14  2 65]]\n",
    "Precision: 0.5898257324377155\n",
    "Recall: 0.5687885010266941\n",
    "Accuracy: 0.5687885010266941\n",
    "F1 Score: 0.5704768364215719\n",
    "```\n",
    "\n",
    "\n",
    "b. Result from EfficientNetB0\n",
    "\n",
    "i. Plot errors vs epochs\n",
    "\n",
    "![2.png](data:image/png;base64,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)\n",
    "\n",
    "ii. Report\n",
    "```\n",
    "### EfficientNetB0 on training set\n",
    "Confusion Matrix:\n",
    "[[222  16   0 160 117]\n",
    " [150   5   0 107  83]\n",
    " [192   9   0 142 101]\n",
    " [207  10   0 160 124]\n",
    " [227  10   0 132 124]]\n",
    "Precision: 0.16308163348687743\n",
    "Recall: 0.22236727589208008\n",
    "Accuracy: 0.22236727589208008\n",
    "F1 Score: 0.1786675276098718\n",
    "\n",
    "### EfficientNetB0 on test set\n",
    "Confusion Matrix:\n",
    "[[71  1  0 13 24]\n",
    " [11  4  0  8 50]\n",
    " [26  4  0 27 37]\n",
    " [29  2  0 54 21]\n",
    " [35  2  0  2 66]]\n",
    "Precision: 0.3233966859271286\n",
    "Recall: 0.4004106776180698\n",
    "Accuracy: 0.4004106776180698\n",
    "F1 Score: 0.33291459585202854\n",
    "```\n",
    "\n",
    "c. Result from VGG16\n",
    "\n",
    "i. Plot errors vs epochs\n",
    "\n",
    "![3.png](data:image/png;base64,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)\n",
    "\n",
    "ii. Report\n",
    "```\n",
    "### VGG16 on training set\n",
    "Confusion Matrix:\n",
    "[[118  75 104 120  98]\n",
    " [ 65  51  71  83  75]\n",
    " [106  62  81  98  97]\n",
    " [132  60 103  97 109]\n",
    " [124  75  94 106  94]]\n",
    "Precision: 0.1913691248529467\n",
    "Recall: 0.1919060052219321\n",
    "Accuracy: 0.1919060052219321\n",
    "F1 Score: 0.19155088188877456\n",
    "\n",
    "### VGG16 on test set\n",
    "Confusion Matrix:\n",
    "[[97  2  1  6  3]\n",
    " [ 1 65  0  1  6]\n",
    " [ 3  4 81  4  2]\n",
    " [ 6  4  4 86  6]\n",
    " [ 2  5  6  3 89]]\n",
    "Precision: 0.8591247370096672\n",
    "Recall: 0.8583162217659137\n",
    "Accuracy: 0.8583162217659137\n",
    "F1 Score: 0.8582754927183777\n",
    "```\n",
    "\n",
    "In summary, for image classification, transfer learning using VGG16 as the pre-trained model performs the best with the highest precision (0.86), recall (0.86), accuracy (0.86), and f1 score (0.86) on test set. ResNet50 ranks second and finally EfficientNetB0."
   ]
  },
  {
   "cell_type": "markdown",
   "id": "_iodhCihatvG",
   "metadata": {
    "id": "_iodhCihatvG"
   },
   "source": [
    "### Video Classification Using Moving Averages"
   ]
  },
  {
   "cell_type": "markdown",
   "id": "eSPiZcA_a3Ji",
   "metadata": {
    "id": "eSPiZcA_a3Ji"
   },
   "source": [
    "i. reuse validation and test data, and retrain the network\n",
    "\n",
    "To reuse validtaion and test data as well as to avoid overfitting, I started fresh, retrained with all these data up to the previous number of epochs."
   ]
  },
  {
   "cell_type": "code",
   "execution_count": 15,
   "id": "W_JTJOceasiz",
   "metadata": {
    "colab": {
     "base_uri": "https://localhost:8080/"
    },
    "executionInfo": {
     "elapsed": 2067941,
     "status": "ok",
     "timestamp": 1683609139070,
     "user": {
      "displayName": "Susie",
      "userId": "08584928109216989221"
     },
     "user_tz": 420
    },
    "id": "W_JTJOceasiz",
    "outputId": "419db50f-c024-409a-d431-a931f523bb9c"
   },
   "outputs": [
    {
     "name": "stdout",
     "output_type": "stream",
     "text": [
      "Retraining ResNet50 model:\n",
      "previous # of epochs: 19\n"
     ]
    },
    {
     "name": "stderr",
     "output_type": "stream",
     "text": [
      "/usr/local/lib/python3.10/dist-packages/keras/preprocessing/image.py:989: UserWarning: Found 1 invalid image filename(s) in x_col=\"file_path\". These filename(s) will be ignored.\n",
      "  warnings.warn('Found {} invalid image filename(s) in x_col=\"{}\". '\n"
     ]
    },
    {
     "name": "stdout",
     "output_type": "stream",
     "text": [
      "Found 3279 validated image filenames belonging to 5 classes.\n",
      "Epoch 1/19\n",
      "164/164 [==============================] - ETA: 0s - loss: 1.3417 - accuracy: 0.4507\n",
      "Epoch 1: loss improved from inf to 1.34175, saving model to final_ResNet50.h5\n",
      "164/164 [==============================] - 28s 150ms/step - loss: 1.3417 - accuracy: 0.4507\n",
      "Epoch 2/19\n",
      "164/164 [==============================] - ETA: 0s - loss: 1.1249 - accuracy: 0.5474\n",
      "Epoch 2: loss improved from 1.34175 to 1.12489, saving model to final_ResNet50.h5\n",
      "164/164 [==============================] - 24s 146ms/step - loss: 1.1249 - accuracy: 0.5474\n",
      "Epoch 3/19\n",
      "164/164 [==============================] - ETA: 0s - loss: 1.0380 - accuracy: 0.5825\n",
      "Epoch 3: loss improved from 1.12489 to 1.03800, saving model to final_ResNet50.h5\n",
      "164/164 [==============================] - 24s 147ms/step - loss: 1.0380 - accuracy: 0.5825\n",
      "Epoch 4/19\n",
      "164/164 [==============================] - ETA: 0s - loss: 0.9678 - accuracy: 0.6188\n",
      "Epoch 4: loss improved from 1.03800 to 0.96784, saving model to final_ResNet50.h5\n",
      "164/164 [==============================] - 24s 144ms/step - loss: 0.9678 - accuracy: 0.6188\n",
      "Epoch 5/19\n",
      "164/164 [==============================] - ETA: 0s - loss: 0.9092 - accuracy: 0.6584\n",
      "Epoch 5: loss improved from 0.96784 to 0.90918, saving model to final_ResNet50.h5\n",
      "164/164 [==============================] - 24s 147ms/step - loss: 0.9092 - accuracy: 0.6584\n",
      "Epoch 6/19\n",
      "164/164 [==============================] - ETA: 0s - loss: 0.8571 - accuracy: 0.6798\n",
      "Epoch 6: loss improved from 0.90918 to 0.85708, saving model to final_ResNet50.h5\n",
      "164/164 [==============================] - 24s 144ms/step - loss: 0.8571 - accuracy: 0.6798\n",
      "Epoch 7/19\n",
      "164/164 [==============================] - ETA: 0s - loss: 0.8181 - accuracy: 0.6880\n",
      "Epoch 7: loss improved from 0.85708 to 0.81811, saving model to final_ResNet50.h5\n",
      "164/164 [==============================] - 24s 146ms/step - loss: 0.8181 - accuracy: 0.6880\n",
      "Epoch 8/19\n",
      "164/164 [==============================] - ETA: 0s - loss: 0.7931 - accuracy: 0.6962\n",
      "Epoch 8: loss improved from 0.81811 to 0.79314, saving model to final_ResNet50.h5\n",
      "164/164 [==============================] - 24s 147ms/step - loss: 0.7931 - accuracy: 0.6962\n",
      "Epoch 9/19\n",
      "164/164 [==============================] - ETA: 0s - loss: 0.7560 - accuracy: 0.7246\n",
      "Epoch 9: loss improved from 0.79314 to 0.75605, saving model to final_ResNet50.h5\n",
      "164/164 [==============================] - 23s 143ms/step - loss: 0.7560 - accuracy: 0.7246\n",
      "Epoch 10/19\n",
      "164/164 [==============================] - ETA: 0s - loss: 0.7218 - accuracy: 0.7298\n",
      "Epoch 10: loss improved from 0.75605 to 0.72180, saving model to final_ResNet50.h5\n",
      "164/164 [==============================] - 24s 146ms/step - loss: 0.7218 - accuracy: 0.7298\n",
      "Epoch 11/19\n",
      "164/164 [==============================] - ETA: 0s - loss: 0.6959 - accuracy: 0.7423\n",
      "Epoch 11: loss improved from 0.72180 to 0.69594, saving model to final_ResNet50.h5\n",
      "164/164 [==============================] - 24s 144ms/step - loss: 0.6959 - accuracy: 0.7423\n",
      "Epoch 12/19\n",
      "164/164 [==============================] - ETA: 0s - loss: 0.6757 - accuracy: 0.7530\n",
      "Epoch 12: loss improved from 0.69594 to 0.67567, saving model to final_ResNet50.h5\n",
      "164/164 [==============================] - 24s 148ms/step - loss: 0.6757 - accuracy: 0.7530\n",
      "Epoch 13/19\n",
      "164/164 [==============================] - ETA: 0s - loss: 0.6499 - accuracy: 0.7640\n",
      "Epoch 13: loss improved from 0.67567 to 0.64995, saving model to final_ResNet50.h5\n",
      "164/164 [==============================] - 24s 147ms/step - loss: 0.6499 - accuracy: 0.7640\n",
      "Epoch 14/19\n",
      "164/164 [==============================] - ETA: 0s - loss: 0.6249 - accuracy: 0.7804\n",
      "Epoch 14: loss improved from 0.64995 to 0.62486, saving model to final_ResNet50.h5\n",
      "164/164 [==============================] - 24s 144ms/step - loss: 0.6249 - accuracy: 0.7804\n",
      "Epoch 15/19\n",
      "164/164 [==============================] - ETA: 0s - loss: 0.5987 - accuracy: 0.7914\n",
      "Epoch 15: loss improved from 0.62486 to 0.59875, saving model to final_ResNet50.h5\n",
      "164/164 [==============================] - 24s 148ms/step - loss: 0.5987 - accuracy: 0.7914\n",
      "Epoch 16/19\n",
      "164/164 [==============================] - ETA: 0s - loss: 0.5933 - accuracy: 0.7853\n",
      "Epoch 16: loss improved from 0.59875 to 0.59331, saving model to final_ResNet50.h5\n",
      "164/164 [==============================] - 23s 142ms/step - loss: 0.5933 - accuracy: 0.7853\n",
      "Epoch 17/19\n",
      "164/164 [==============================] - ETA: 0s - loss: 0.5652 - accuracy: 0.8070\n",
      "Epoch 17: loss improved from 0.59331 to 0.56523, saving model to final_ResNet50.h5\n",
      "164/164 [==============================] - 24s 146ms/step - loss: 0.5652 - accuracy: 0.8070\n",
      "Epoch 18/19\n",
      "164/164 [==============================] - ETA: 0s - loss: 0.5397 - accuracy: 0.8167\n",
      "Epoch 18: loss improved from 0.56523 to 0.53973, saving model to final_ResNet50.h5\n",
      "164/164 [==============================] - 24s 147ms/step - loss: 0.5397 - accuracy: 0.8167\n",
      "Epoch 19/19\n",
      "164/164 [==============================] - ETA: 0s - loss: 0.5352 - accuracy: 0.8167\n",
      "Epoch 19: loss improved from 0.53973 to 0.53516, saving model to final_ResNet50.h5\n",
      "164/164 [==============================] - 23s 142ms/step - loss: 0.5352 - accuracy: 0.8167\n",
      "Retraining EfficientNetB0 model:\n",
      "previous # of epochs: 36\n"
     ]
    },
    {
     "name": "stderr",
     "output_type": "stream",
     "text": [
      "/usr/local/lib/python3.10/dist-packages/keras/preprocessing/image.py:989: UserWarning: Found 1 invalid image filename(s) in x_col=\"file_path\". These filename(s) will be ignored.\n",
      "  warnings.warn('Found {} invalid image filename(s) in x_col=\"{}\". '\n"
     ]
    },
    {
     "name": "stdout",
     "output_type": "stream",
     "text": [
      "Found 3279 validated image filenames belonging to 5 classes.\n",
      "Epoch 1/36\n",
      "164/164 [==============================] - ETA: 0s - loss: 1.7076 - accuracy: 0.2385\n",
      "Epoch 1: loss improved from inf to 1.70763, saving model to final_EfficientNetB0.h5\n",
      "164/164 [==============================] - 29s 142ms/step - loss: 1.7076 - accuracy: 0.2385\n",
      "Epoch 2/36\n",
      "164/164 [==============================] - ETA: 0s - loss: 1.6727 - accuracy: 0.2470\n",
      "Epoch 2: loss improved from 1.70763 to 1.67268, saving model to final_EfficientNetB0.h5\n",
      "164/164 [==============================] - 23s 141ms/step - loss: 1.6727 - accuracy: 0.2470\n",
      "Epoch 3/36\n",
      "164/164 [==============================] - ETA: 0s - loss: 1.6363 - accuracy: 0.2656\n",
      "Epoch 3: loss improved from 1.67268 to 1.63625, saving model to final_EfficientNetB0.h5\n",
      "164/164 [==============================] - 23s 139ms/step - loss: 1.6363 - accuracy: 0.2656\n",
      "Epoch 4/36\n",
      "164/164 [==============================] - ETA: 0s - loss: 1.6239 - accuracy: 0.2739\n",
      "Epoch 4: loss improved from 1.63625 to 1.62394, saving model to final_EfficientNetB0.h5\n",
      "164/164 [==============================] - 23s 141ms/step - loss: 1.6239 - accuracy: 0.2739\n",
      "Epoch 5/36\n",
      "164/164 [==============================] - ETA: 0s - loss: 1.5897 - accuracy: 0.3004\n",
      "Epoch 5: loss improved from 1.62394 to 1.58973, saving model to final_EfficientNetB0.h5\n",
      "164/164 [==============================] - 23s 140ms/step - loss: 1.5897 - accuracy: 0.3004\n",
      "Epoch 6/36\n",
      "164/164 [==============================] - ETA: 0s - loss: 1.5918 - accuracy: 0.2864\n",
      "Epoch 6: loss did not improve from 1.58973\n",
      "164/164 [==============================] - 23s 137ms/step - loss: 1.5918 - accuracy: 0.2864\n",
      "Epoch 7/36\n",
      "164/164 [==============================] - ETA: 0s - loss: 1.6093 - accuracy: 0.2897\n",
      "Epoch 7: loss did not improve from 1.58973\n",
      "164/164 [==============================] - 23s 139ms/step - loss: 1.6093 - accuracy: 0.2897\n",
      "Epoch 8/36\n",
      "164/164 [==============================] - ETA: 0s - loss: 1.5827 - accuracy: 0.3007\n",
      "Epoch 8: loss improved from 1.58973 to 1.58265, saving model to final_EfficientNetB0.h5\n",
      "164/164 [==============================] - 23s 137ms/step - loss: 1.5827 - accuracy: 0.3007\n",
      "Epoch 9/36\n",
      "164/164 [==============================] - ETA: 0s - loss: 1.5721 - accuracy: 0.3001\n",
      "Epoch 9: loss improved from 1.58265 to 1.57207, saving model to final_EfficientNetB0.h5\n",
      "164/164 [==============================] - 23s 141ms/step - loss: 1.5721 - accuracy: 0.3001\n",
      "Epoch 10/36\n",
      "164/164 [==============================] - ETA: 0s - loss: 1.5727 - accuracy: 0.3019\n",
      "Epoch 10: loss did not improve from 1.57207\n",
      "164/164 [==============================] - 22s 136ms/step - loss: 1.5727 - accuracy: 0.3019\n",
      "Epoch 11/36\n",
      "164/164 [==============================] - ETA: 0s - loss: 1.5760 - accuracy: 0.2940\n",
      "Epoch 11: loss did not improve from 1.57207\n",
      "164/164 [==============================] - 23s 140ms/step - loss: 1.5760 - accuracy: 0.2940\n",
      "Epoch 12/36\n",
      "164/164 [==============================] - ETA: 0s - loss: 1.5602 - accuracy: 0.3288\n",
      "Epoch 12: loss improved from 1.57207 to 1.56024, saving model to final_EfficientNetB0.h5\n",
      "164/164 [==============================] - 23s 137ms/step - loss: 1.5602 - accuracy: 0.3288\n",
      "Epoch 13/36\n",
      "164/164 [==============================] - ETA: 0s - loss: 1.5442 - accuracy: 0.3196\n",
      "Epoch 13: loss improved from 1.56024 to 1.54425, saving model to final_EfficientNetB0.h5\n",
      "164/164 [==============================] - 23s 140ms/step - loss: 1.5442 - accuracy: 0.3196\n",
      "Epoch 14/36\n",
      "164/164 [==============================] - ETA: 0s - loss: 1.5490 - accuracy: 0.3242\n",
      "Epoch 14: loss did not improve from 1.54425\n",
      "164/164 [==============================] - 22s 135ms/step - loss: 1.5490 - accuracy: 0.3242\n",
      "Epoch 15/36\n",
      "164/164 [==============================] - ETA: 0s - loss: 1.5372 - accuracy: 0.3236\n",
      "Epoch 15: loss improved from 1.54425 to 1.53725, saving model to final_EfficientNetB0.h5\n",
      "164/164 [==============================] - 24s 143ms/step - loss: 1.5372 - accuracy: 0.3236\n",
      "Epoch 16/36\n",
      "164/164 [==============================] - ETA: 0s - loss: 1.5445 - accuracy: 0.3178\n",
      "Epoch 16: loss did not improve from 1.53725\n",
      "164/164 [==============================] - 22s 137ms/step - loss: 1.5445 - accuracy: 0.3178\n",
      "Epoch 17/36\n",
      "164/164 [==============================] - ETA: 0s - loss: 1.5478 - accuracy: 0.3175\n",
      "Epoch 17: loss did not improve from 1.53725\n",
      "164/164 [==============================] - 23s 139ms/step - loss: 1.5478 - accuracy: 0.3175\n",
      "Epoch 18/36\n",
      "164/164 [==============================] - ETA: 0s - loss: 1.5510 - accuracy: 0.3199\n",
      "Epoch 18: loss did not improve from 1.53725\n",
      "164/164 [==============================] - 23s 139ms/step - loss: 1.5510 - accuracy: 0.3199\n",
      "Epoch 19/36\n",
      "164/164 [==============================] - ETA: 0s - loss: 1.5328 - accuracy: 0.3217\n",
      "Epoch 19: loss improved from 1.53725 to 1.53275, saving model to final_EfficientNetB0.h5\n",
      "164/164 [==============================] - 23s 143ms/step - loss: 1.5328 - accuracy: 0.3217\n",
      "Epoch 20/36\n",
      "164/164 [==============================] - ETA: 0s - loss: 1.5285 - accuracy: 0.3239\n",
      "Epoch 20: loss improved from 1.53275 to 1.52850, saving model to final_EfficientNetB0.h5\n",
      "164/164 [==============================] - 23s 142ms/step - loss: 1.5285 - accuracy: 0.3239\n",
      "Epoch 21/36\n",
      "164/164 [==============================] - ETA: 0s - loss: 1.5224 - accuracy: 0.3309\n",
      "Epoch 21: loss improved from 1.52850 to 1.52236, saving model to final_EfficientNetB0.h5\n",
      "164/164 [==============================] - 23s 141ms/step - loss: 1.5224 - accuracy: 0.3309\n",
      "Epoch 22/36\n",
      "164/164 [==============================] - ETA: 0s - loss: 1.5248 - accuracy: 0.3217\n",
      "Epoch 22: loss did not improve from 1.52236\n",
      "164/164 [==============================] - 23s 139ms/step - loss: 1.5248 - accuracy: 0.3217\n",
      "Epoch 23/36\n",
      "164/164 [==============================] - ETA: 0s - loss: 1.5354 - accuracy: 0.3309\n",
      "Epoch 23: loss did not improve from 1.52236\n",
      "164/164 [==============================] - 22s 134ms/step - loss: 1.5354 - accuracy: 0.3309\n",
      "Epoch 24/36\n",
      "164/164 [==============================] - ETA: 0s - loss: 1.5264 - accuracy: 0.3297\n",
      "Epoch 24: loss did not improve from 1.52236\n",
      "164/164 [==============================] - 23s 139ms/step - loss: 1.5264 - accuracy: 0.3297\n",
      "Epoch 25/36\n",
      "164/164 [==============================] - ETA: 0s - loss: 1.5198 - accuracy: 0.3266\n",
      "Epoch 25: loss improved from 1.52236 to 1.51976, saving model to final_EfficientNetB0.h5\n",
      "164/164 [==============================] - 23s 138ms/step - loss: 1.5198 - accuracy: 0.3266\n",
      "Epoch 26/36\n",
      "164/164 [==============================] - ETA: 0s - loss: 1.5207 - accuracy: 0.3474\n",
      "Epoch 26: loss did not improve from 1.51976\n",
      "164/164 [==============================] - 23s 140ms/step - loss: 1.5207 - accuracy: 0.3474\n",
      "Epoch 27/36\n",
      "164/164 [==============================] - ETA: 0s - loss: 1.5115 - accuracy: 0.3275\n",
      "Epoch 27: loss improved from 1.51976 to 1.51146, saving model to final_EfficientNetB0.h5\n",
      "164/164 [==============================] - 23s 138ms/step - loss: 1.5115 - accuracy: 0.3275\n",
      "Epoch 28/36\n",
      "164/164 [==============================] - ETA: 0s - loss: 1.5124 - accuracy: 0.3242\n",
      "Epoch 28: loss did not improve from 1.51146\n",
      "164/164 [==============================] - 23s 140ms/step - loss: 1.5124 - accuracy: 0.3242\n",
      "Epoch 29/36\n",
      "164/164 [==============================] - ETA: 0s - loss: 1.5100 - accuracy: 0.3443\n",
      "Epoch 29: loss improved from 1.51146 to 1.50997, saving model to final_EfficientNetB0.h5\n",
      "164/164 [==============================] - 23s 139ms/step - loss: 1.5100 - accuracy: 0.3443\n",
      "Epoch 30/36\n",
      "164/164 [==============================] - ETA: 0s - loss: 1.5209 - accuracy: 0.3239\n",
      "Epoch 30: loss did not improve from 1.50997\n",
      "164/164 [==============================] - 23s 139ms/step - loss: 1.5209 - accuracy: 0.3239\n",
      "Epoch 31/36\n",
      "164/164 [==============================] - ETA: 0s - loss: 1.5094 - accuracy: 0.3333\n",
      "Epoch 31: loss improved from 1.50997 to 1.50945, saving model to final_EfficientNetB0.h5\n",
      "164/164 [==============================] - 23s 138ms/step - loss: 1.5094 - accuracy: 0.3333\n",
      "Epoch 32/36\n",
      "164/164 [==============================] - ETA: 0s - loss: 1.5119 - accuracy: 0.3330\n",
      "Epoch 32: loss did not improve from 1.50945\n",
      "164/164 [==============================] - 23s 141ms/step - loss: 1.5119 - accuracy: 0.3330\n",
      "Epoch 33/36\n",
      "164/164 [==============================] - ETA: 0s - loss: 1.5061 - accuracy: 0.3464\n",
      "Epoch 33: loss improved from 1.50945 to 1.50605, saving model to final_EfficientNetB0.h5\n",
      "164/164 [==============================] - 23s 139ms/step - loss: 1.5061 - accuracy: 0.3464\n",
      "Epoch 34/36\n",
      "164/164 [==============================] - ETA: 0s - loss: 1.4929 - accuracy: 0.3562\n",
      "Epoch 34: loss improved from 1.50605 to 1.49295, saving model to final_EfficientNetB0.h5\n",
      "164/164 [==============================] - 23s 142ms/step - loss: 1.4929 - accuracy: 0.3562\n",
      "Epoch 35/36\n",
      "164/164 [==============================] - ETA: 0s - loss: 1.4925 - accuracy: 0.3455\n",
      "Epoch 35: loss improved from 1.49295 to 1.49248, saving model to final_EfficientNetB0.h5\n",
      "164/164 [==============================] - 23s 140ms/step - loss: 1.4925 - accuracy: 0.3455\n",
      "Epoch 36/36\n",
      "164/164 [==============================] - ETA: 0s - loss: 1.4926 - accuracy: 0.3504\n",
      "Epoch 36: loss did not improve from 1.49248\n",
      "164/164 [==============================] - 23s 137ms/step - loss: 1.4926 - accuracy: 0.3504\n",
      "Retraining VGG16 model:\n",
      "previous # of epochs: 30\n",
      "Found 3279 validated image filenames belonging to 5 classes.\n",
      "Epoch 1/30\n"
     ]
    },
    {
     "name": "stderr",
     "output_type": "stream",
     "text": [
      "/usr/local/lib/python3.10/dist-packages/keras/preprocessing/image.py:989: UserWarning: Found 1 invalid image filename(s) in x_col=\"file_path\". These filename(s) will be ignored.\n",
      "  warnings.warn('Found {} invalid image filename(s) in x_col=\"{}\". '\n"
     ]
    },
    {
     "name": "stdout",
     "output_type": "stream",
     "text": [
      "164/164 [==============================] - ETA: 0s - loss: 0.9915 - accuracy: 0.6179\n",
      "Epoch 1: loss improved from inf to 0.99145, saving model to final_VGG16.h5\n",
      "164/164 [==============================] - 29s 169ms/step - loss: 0.9915 - accuracy: 0.6179\n",
      "Epoch 2/30\n",
      "164/164 [==============================] - ETA: 0s - loss: 0.5861 - accuracy: 0.8063\n",
      "Epoch 2: loss improved from 0.99145 to 0.58605, saving model to final_VGG16.h5\n",
      "164/164 [==============================] - 26s 156ms/step - loss: 0.5861 - accuracy: 0.8063\n",
      "Epoch 3/30\n",
      "164/164 [==============================] - ETA: 0s - loss: 0.4581 - accuracy: 0.8533\n",
      "Epoch 3: loss improved from 0.58605 to 0.45808, saving model to final_VGG16.h5\n",
      "164/164 [==============================] - 25s 155ms/step - loss: 0.4581 - accuracy: 0.8533\n",
      "Epoch 4/30\n",
      "164/164 [==============================] - ETA: 0s - loss: 0.3767 - accuracy: 0.8801\n",
      "Epoch 4: loss improved from 0.45808 to 0.37665, saving model to final_VGG16.h5\n",
      "164/164 [==============================] - 26s 158ms/step - loss: 0.3767 - accuracy: 0.8801\n",
      "Epoch 5/30\n",
      "164/164 [==============================] - ETA: 0s - loss: 0.3246 - accuracy: 0.8957\n",
      "Epoch 5: loss improved from 0.37665 to 0.32462, saving model to final_VGG16.h5\n",
      "164/164 [==============================] - 26s 158ms/step - loss: 0.3246 - accuracy: 0.8957\n",
      "Epoch 6/30\n",
      "164/164 [==============================] - ETA: 0s - loss: 0.2868 - accuracy: 0.9177\n",
      "Epoch 6: loss improved from 0.32462 to 0.28681, saving model to final_VGG16.h5\n",
      "164/164 [==============================] - 26s 156ms/step - loss: 0.2868 - accuracy: 0.9177\n",
      "Epoch 7/30\n",
      "164/164 [==============================] - ETA: 0s - loss: 0.2464 - accuracy: 0.9296\n",
      "Epoch 7: loss improved from 0.28681 to 0.24636, saving model to final_VGG16.h5\n",
      "164/164 [==============================] - 25s 154ms/step - loss: 0.2464 - accuracy: 0.9296\n",
      "Epoch 8/30\n",
      "164/164 [==============================] - ETA: 0s - loss: 0.2227 - accuracy: 0.9353\n",
      "Epoch 8: loss improved from 0.24636 to 0.22267, saving model to final_VGG16.h5\n",
      "164/164 [==============================] - 26s 157ms/step - loss: 0.2227 - accuracy: 0.9353\n",
      "Epoch 9/30\n",
      "164/164 [==============================] - ETA: 0s - loss: 0.1985 - accuracy: 0.9457\n",
      "Epoch 9: loss improved from 0.22267 to 0.19851, saving model to final_VGG16.h5\n",
      "164/164 [==============================] - 26s 155ms/step - loss: 0.1985 - accuracy: 0.9457\n",
      "Epoch 10/30\n",
      "164/164 [==============================] - ETA: 0s - loss: 0.1761 - accuracy: 0.9558\n",
      "Epoch 10: loss improved from 0.19851 to 0.17613, saving model to final_VGG16.h5\n",
      "164/164 [==============================] - 26s 155ms/step - loss: 0.1761 - accuracy: 0.9558\n",
      "Epoch 11/30\n",
      "164/164 [==============================] - ETA: 0s - loss: 0.1547 - accuracy: 0.9637\n",
      "Epoch 11: loss improved from 0.17613 to 0.15474, saving model to final_VGG16.h5\n",
      "164/164 [==============================] - 26s 159ms/step - loss: 0.1547 - accuracy: 0.9637\n",
      "Epoch 12/30\n",
      "164/164 [==============================] - ETA: 0s - loss: 0.1460 - accuracy: 0.9655\n",
      "Epoch 12: loss improved from 0.15474 to 0.14598, saving model to final_VGG16.h5\n",
      "164/164 [==============================] - 26s 156ms/step - loss: 0.1460 - accuracy: 0.9655\n",
      "Epoch 13/30\n",
      "164/164 [==============================] - ETA: 0s - loss: 0.1328 - accuracy: 0.9671\n",
      "Epoch 13: loss improved from 0.14598 to 0.13283, saving model to final_VGG16.h5\n",
      "164/164 [==============================] - 26s 155ms/step - loss: 0.1328 - accuracy: 0.9671\n",
      "Epoch 14/30\n",
      "164/164 [==============================] - ETA: 0s - loss: 0.1224 - accuracy: 0.9756\n",
      "Epoch 14: loss improved from 0.13283 to 0.12240, saving model to final_VGG16.h5\n",
      "164/164 [==============================] - 26s 156ms/step - loss: 0.1224 - accuracy: 0.9756\n",
      "Epoch 15/30\n",
      "164/164 [==============================] - ETA: 0s - loss: 0.1154 - accuracy: 0.9750\n",
      "Epoch 15: loss improved from 0.12240 to 0.11540, saving model to final_VGG16.h5\n",
      "164/164 [==============================] - 25s 154ms/step - loss: 0.1154 - accuracy: 0.9750\n",
      "Epoch 16/30\n",
      "164/164 [==============================] - ETA: 0s - loss: 0.1033 - accuracy: 0.9774\n",
      "Epoch 16: loss improved from 0.11540 to 0.10332, saving model to final_VGG16.h5\n",
      "164/164 [==============================] - 25s 155ms/step - loss: 0.1033 - accuracy: 0.9774\n",
      "Epoch 17/30\n",
      "164/164 [==============================] - ETA: 0s - loss: 0.0924 - accuracy: 0.9823\n",
      "Epoch 17: loss improved from 0.10332 to 0.09242, saving model to final_VGG16.h5\n",
      "164/164 [==============================] - 26s 157ms/step - loss: 0.0924 - accuracy: 0.9823\n",
      "Epoch 18/30\n",
      "164/164 [==============================] - ETA: 0s - loss: 0.0858 - accuracy: 0.9844\n",
      "Epoch 18: loss improved from 0.09242 to 0.08575, saving model to final_VGG16.h5\n",
      "164/164 [==============================] - 26s 155ms/step - loss: 0.0858 - accuracy: 0.9844\n",
      "Epoch 19/30\n",
      "164/164 [==============================] - ETA: 0s - loss: 0.0793 - accuracy: 0.9872\n",
      "Epoch 19: loss improved from 0.08575 to 0.07931, saving model to final_VGG16.h5\n",
      "164/164 [==============================] - 25s 153ms/step - loss: 0.0793 - accuracy: 0.9872\n",
      "Epoch 20/30\n",
      "164/164 [==============================] - ETA: 0s - loss: 0.0748 - accuracy: 0.9854\n",
      "Epoch 20: loss improved from 0.07931 to 0.07481, saving model to final_VGG16.h5\n",
      "164/164 [==============================] - 26s 156ms/step - loss: 0.0748 - accuracy: 0.9854\n",
      "Epoch 21/30\n",
      "164/164 [==============================] - ETA: 0s - loss: 0.0676 - accuracy: 0.9875\n",
      "Epoch 21: loss improved from 0.07481 to 0.06759, saving model to final_VGG16.h5\n",
      "164/164 [==============================] - 26s 156ms/step - loss: 0.0676 - accuracy: 0.9875\n",
      "Epoch 22/30\n",
      "164/164 [==============================] - ETA: 0s - loss: 0.0646 - accuracy: 0.9872\n",
      "Epoch 22: loss improved from 0.06759 to 0.06464, saving model to final_VGG16.h5\n",
      "164/164 [==============================] - 25s 154ms/step - loss: 0.0646 - accuracy: 0.9872\n",
      "Epoch 23/30\n",
      "164/164 [==============================] - ETA: 0s - loss: 0.0597 - accuracy: 0.9918\n",
      "Epoch 23: loss improved from 0.06464 to 0.05967, saving model to final_VGG16.h5\n",
      "164/164 [==============================] - 26s 156ms/step - loss: 0.0597 - accuracy: 0.9918\n",
      "Epoch 24/30\n",
      "164/164 [==============================] - ETA: 0s - loss: 0.0537 - accuracy: 0.9921\n",
      "Epoch 24: loss improved from 0.05967 to 0.05365, saving model to final_VGG16.h5\n",
      "164/164 [==============================] - 26s 155ms/step - loss: 0.0537 - accuracy: 0.9921\n",
      "Epoch 25/30\n",
      "164/164 [==============================] - ETA: 0s - loss: 0.0480 - accuracy: 0.9930\n",
      "Epoch 25: loss improved from 0.05365 to 0.04803, saving model to final_VGG16.h5\n",
      "164/164 [==============================] - 25s 154ms/step - loss: 0.0480 - accuracy: 0.9930\n",
      "Epoch 26/30\n",
      "164/164 [==============================] - ETA: 0s - loss: 0.0418 - accuracy: 0.9954\n",
      "Epoch 26: loss improved from 0.04803 to 0.04178, saving model to final_VGG16.h5\n",
      "164/164 [==============================] - 26s 156ms/step - loss: 0.0418 - accuracy: 0.9954\n",
      "Epoch 27/30\n",
      "164/164 [==============================] - ETA: 0s - loss: 0.0429 - accuracy: 0.9957\n",
      "Epoch 27: loss did not improve from 0.04178\n",
      "164/164 [==============================] - 26s 156ms/step - loss: 0.0429 - accuracy: 0.9957\n",
      "Epoch 28/30\n",
      "164/164 [==============================] - ETA: 0s - loss: 0.0370 - accuracy: 0.9960\n",
      "Epoch 28: loss improved from 0.04178 to 0.03705, saving model to final_VGG16.h5\n",
      "164/164 [==============================] - 25s 155ms/step - loss: 0.0370 - accuracy: 0.9960\n",
      "Epoch 29/30\n",
      "164/164 [==============================] - ETA: 0s - loss: 0.0368 - accuracy: 0.9933\n",
      "Epoch 29: loss improved from 0.03705 to 0.03681, saving model to final_VGG16.h5\n",
      "164/164 [==============================] - 26s 156ms/step - loss: 0.0368 - accuracy: 0.9933\n",
      "Epoch 30/30\n",
      "164/164 [==============================] - ETA: 0s - loss: 0.0315 - accuracy: 0.9966\n",
      "Epoch 30: loss improved from 0.03681 to 0.03146, saving model to final_VGG16.h5\n",
      "164/164 [==============================] - 26s 156ms/step - loss: 0.0315 - accuracy: 0.9966\n"
     ]
    }
   ],
   "source": [
    "def train_val_test_generator(batch_size=20):\n",
    "  file_paths, class_list = file_paths_generator(directory_name = ['train','validation','test'])\n",
    "\n",
    "  train_df = pd.DataFrame({\n",
    "      'file_path' : file_paths,\n",
    "      'class': class_list\n",
    "  })\n",
    "\n",
    "  train_val_test_generator = ImageDataGenerator(rescale=1./255).flow_from_dataframe(\n",
    "      train_df,\n",
    "      x_col = 'file_path',\n",
    "      y_col = 'class',\n",
    "      target_size=(256, 256),\n",
    "      batch_size=batch_size,\n",
    "      class_mode='categorical',\n",
    "      shuffle=True)\n",
    "  \n",
    "  return train_val_test_generator\n",
    "\n",
    "index = 0\n",
    "retrain_model_history_list = []\n",
    "for model_name, pretrained_model in pretrained_models.items():\n",
    "  print(f\"Retraining {model_name} model:\")\n",
    "  # create model\n",
    "  base_model = pretrained_model(weights='imagenet', include_top=False, input_shape=(256, 256, 3))\n",
    "  for layer in base_model.layers:\n",
    "      layer.trainable = False\n",
    "  model = transfer_learning_model(base_model, num_classes = 5)\n",
    "  model.compile(optimizer=Adam(learning_rate=0.0001), loss='categorical_crossentropy', metrics=['accuracy']) # adam + cross entropy loss\n",
    "  # previous epochs\n",
    "  prev_epochs = len(train_model_history_list[index].history['val_loss'])\n",
    "  print('previous # of epochs:', prev_epochs)\n",
    "  # fit model with checkpoint\n",
    "  checkpoint = ModelCheckpoint(f\"final_{model_name}.h5\", monitor='loss', save_best_only=True, verbose=1)\n",
    "  retrain_model_history = model.fit(train_val_test_generator(), epochs=prev_epochs,callbacks=[checkpoint])\n",
    "  retrain_model_history_list.append(retrain_model_history)\n",
    "  index = index +1"
   ]
  },
  {
   "cell_type": "markdown",
   "id": "Wg0CWTLHZuQi",
   "metadata": {
    "id": "Wg0CWTLHZuQi"
   },
   "source": [
    "#### Result:\n",
    "\n",
    "In model retraining for video classification, the retrained models are saved as 'final_ResNet50.h5', 'final_EfficientNetB0.h5', and 'final_VGG16.h5'.\n",
    "\n",
    "a. To retrain ResNet50 model, it retrain with all data up to the previous # of epochs = 19. The retrained model achieves loss: 0.5352 and accuracy: 0.8167.\n",
    "\n",
    "b. To retrain EfficientNetB0 model, it retrain with all data up to the previous # of epochs = 36. The retrained model achieves loss: 1.4925 and accuracy: 0.3455.\n",
    "\n",
    "c. To retrain VGG16 model, it retrain with all data up to the previous # of epochs = 30. The retrained model achieves loss: 0.0315 and accuracy: 0.9966."
   ]
  },
  {
   "cell_type": "markdown",
   "id": "ZeYt8fOt_eBM",
   "metadata": {
    "id": "ZeYt8fOt_eBM"
   },
   "source": [
    "ii. train model on frames of videos"
   ]
  },
  {
   "cell_type": "code",
   "execution_count": 16,
   "id": "Z97rDODCAmXy",
   "metadata": {
    "executionInfo": {
     "elapsed": 545,
     "status": "ok",
     "timestamp": 1683612337230,
     "user": {
      "displayName": "Susie",
      "userId": "08584928109216989221"
     },
     "user_tz": 420
    },
    "id": "Z97rDODCAmXy"
   },
   "outputs": [],
   "source": [
    "def train_video_frames(video_path, model, L=100):\n",
    "    cap = cv2.VideoCapture(video_path)\n",
    "    frame_count = int(cap.get(cv2.CAP_PROP_FRAME_COUNT))\n",
    "    frame_step = frame_count // L\n",
    "    if frame_step == 0:\n",
    "      frame_step = 1\n",
    "\n",
    "    frame_probs = []\n",
    "    for i in range(0, frame_count, frame_step):\n",
    "        cap.set(cv2.CAP_PROP_POS_FRAMES, i)\n",
    "        ret, frame = cap.read()\n",
    "\n",
    "        if ret:\n",
    "            frame = cv2.resize(frame, (256, 256))\n",
    "            frame = img_to_array(frame)\n",
    "            frame = np.expand_dims(frame, axis=0)\n",
    "            frame = frame / 255.\n",
    "\n",
    "            probs = model.predict(frame, verbose = 0)\n",
    "            frame_probs.append(probs)\n",
    "\n",
    "    cap.release()\n",
    "    return np.mean(frame_probs, axis=0)"
   ]
  },
  {
   "cell_type": "markdown",
   "id": "srCbZWMzAq-q",
   "metadata": {
    "id": "srCbZWMzAq-q"
   },
   "source": [
    "iii. report model results"
   ]
  },
  {
   "cell_type": "code",
   "execution_count": 17,
   "id": "Pfg3-RhNAw3B",
   "metadata": {
    "executionInfo": {
     "elapsed": 219,
     "status": "ok",
     "timestamp": 1683612360970,
     "user": {
      "displayName": "Susie",
      "userId": "08584928109216989221"
     },
     "user_tz": 420
    },
    "id": "Pfg3-RhNAw3B"
   },
   "outputs": [],
   "source": [
    "def report_result(y_true, y_pred):\n",
    "    conf_matrix = confusion_matrix(y_true, y_pred)\n",
    "    precision = precision_score(y_true, y_pred, average='weighted')\n",
    "    recall = recall_score(y_true, y_pred, average='weighted')\n",
    "    accuracy = accuracy_score(y_true, y_pred)\n",
    "    f1 = f1_score(y_true, y_pred, average='weighted')\n",
    "\n",
    "    return {'confusion_matrix': conf_matrix, 'precision': precision, 'recall': recall, 'accuracy': accuracy, 'f1_score': f1}"
   ]
  },
  {
   "cell_type": "markdown",
   "id": "ibpxGRPusyt9",
   "metadata": {
    "id": "ibpxGRPusyt9"
   },
   "source": [
    "iv. classify videos using moving averages and report results"
   ]
  },
  {
   "cell_type": "code",
   "execution_count": 19,
   "id": "EHQPYeA8DP-K",
   "metadata": {
    "colab": {
     "base_uri": "https://localhost:8080/"
    },
    "executionInfo": {
     "elapsed": 14419669,
     "status": "ok",
     "timestamp": 1683636120724,
     "user": {
      "displayName": "Susie",
      "userId": "08584928109216989221"
     },
     "user_tz": 420
    },
    "id": "EHQPYeA8DP-K",
    "outputId": "474c5093-d81b-41e9-d2a4-80d8c7c2c227"
   },
   "outputs": [
    {
     "name": "stdout",
     "output_type": "stream",
     "text": [
      "ResNet50 Evaluation Metrics:\n",
      "Finish video folder:BaseballPitch\n",
      "Finish video folder:Basketball\n",
      "Finish video folder:Fencing\n",
      "Finish video folder:TennisSwing\n",
      "Finish video folder:VolleyballSpiking\n",
      "Confusion Matrix:\n",
      "[[89  0 21 29 11]\n",
      " [62  6 28 21 20]\n",
      " [25  0 52 10 24]\n",
      " [41 16  9 97  4]\n",
      " [43  2  5 30 36]]\n",
      "Precision: 0.391146874273157\n",
      "Recall: 0.4111600587371512\n",
      "Accuracy: 0.4111600587371512\n",
      "F1 Score: 0.37814315677145366\n",
      "EfficientNetB0 Evaluation Metrics:\n",
      "Finish video folder:BaseballPitch\n",
      "Finish video folder:Basketball\n",
      "Finish video folder:Fencing\n",
      "Finish video folder:TennisSwing\n",
      "Finish video folder:VolleyballSpiking\n",
      "Confusion Matrix:\n",
      "[[ 33   0   0 117   0]\n",
      " [ 45   0   0  92   0]\n",
      " [ 25   0   0  86   0]\n",
      " [ 55   0   0 112   0]\n",
      " [ 13   0   0 103   0]]\n",
      "Precision: 0.09636105466222349\n",
      "Recall: 0.21292217327459617\n",
      "Accuracy: 0.21292217327459617\n",
      "F1 Score: 0.12642681444729262\n",
      "VGG16 Evaluation Metrics:\n"
     ]
    },
    {
     "name": "stderr",
     "output_type": "stream",
     "text": [
      "/usr/local/lib/python3.10/dist-packages/sklearn/metrics/_classification.py:1344: UndefinedMetricWarning: Precision is ill-defined and being set to 0.0 in labels with no predicted samples. Use `zero_division` parameter to control this behavior.\n",
      "  _warn_prf(average, modifier, msg_start, len(result))\n"
     ]
    },
    {
     "name": "stdout",
     "output_type": "stream",
     "text": [
      "Finish video folder:BaseballPitch\n",
      "Finish video folder:Basketball\n",
      "Finish video folder:Fencing\n",
      "Finish video folder:TennisSwing\n",
      "Finish video folder:VolleyballSpiking\n",
      "Confusion Matrix:\n",
      "[[124   0  22   4   0]\n",
      " [ 12   0  98  20   7]\n",
      " [  3   0 108   0   0]\n",
      " [ 15   0  48  91  13]\n",
      " [  3   0  90   7  16]]\n",
      "Precision: 0.48068511786537577\n",
      "Recall: 0.4977973568281938\n",
      "Accuracy: 0.4977973568281938\n",
      "F1 Score: 0.44203728661448993\n"
     ]
    },
    {
     "name": "stderr",
     "output_type": "stream",
     "text": [
      "/usr/local/lib/python3.10/dist-packages/sklearn/metrics/_classification.py:1344: UndefinedMetricWarning: Precision is ill-defined and being set to 0.0 in labels with no predicted samples. Use `zero_division` parameter to control this behavior.\n",
      "  _warn_prf(average, modifier, msg_start, len(result))\n"
     ]
    }
   ],
   "source": [
    "class_video_map = {0:'BaseballPitch',1:'Basketball',2:'Fencing',3:'TennisSwing',4:'VolleyballSpiking'}\n",
    "\n",
    "for model_index in range(0,len(pretrained_models)):\n",
    "  model_name = list(pretrained_models.keys())[model_index]\n",
    "  print(f\"{model_name} Evaluation Metrics:\")\n",
    "  final_model = load_model(f\"final_{model_name}.h5\")\n",
    "  video_base_path = os.path.join(data_path,'Sport Videos')\n",
    "  y_true = []\n",
    "  y_pred = []\n",
    "\n",
    "  for class_label, class_name in class_video_map.items():\n",
    "    video_folder_path = os.path.join(video_base_path, class_name)\n",
    "    video_files = os.listdir(video_folder_path)\n",
    "    for video_file in video_files:\n",
    "      video_path = os.path.join(video_folder_path, video_file)\n",
    "      avg_prob = train_video_frames(video_path, final_model)\n",
    "\n",
    "      pred_class = np.argmax(avg_prob)\n",
    "      y_true.append(class_label)\n",
    "      y_pred.append(pred_class)\n",
    "  \n",
    "    print(f'Finish video folder:{class_name}')\n",
    "\n",
    "  metrics = report_result(y_true, y_pred)\n",
    "  print(f\"Confusion Matrix:\\n{metrics['confusion_matrix']}\")\n",
    "  print(f\"Precision: {metrics['precision']}\")\n",
    "  print(f\"Recall: {metrics['recall']}\")\n",
    "  print(f\"Accuracy: {metrics['accuracy']}\")\n",
    "  print(f\"F1 Score: {metrics['f1_score']}\")"
   ]
  },
  {
   "cell_type": "markdown",
   "id": "yczwW8BHVpax",
   "metadata": {
    "id": "yczwW8BHVpax"
   },
   "source": [
    "#### Result:\n",
    "\n",
    "In video classification using moving averages, I use the retrained models 'final_ResNet50.h5', 'final_EfficientNetB0.h5', and 'final_VGG16.h5' to predict on test set, i.e. videos. To clarify the results, the following results are intercepted from the above process.\n",
    "\n",
    "a. Result from ResNet50\n",
    "```\n",
    "### ResNet50 on videos (test data)\n",
    "Confusion Matrix:\n",
    "[[89  0 21 29 11]\n",
    " [62  6 28 21 20]\n",
    " [25  0 52 10 24]\n",
    " [41 16  9 97  4]\n",
    " [43  2  5 30 36]]\n",
    "Precision: 0.391146874273157\n",
    "Recall: 0.4111600587371512\n",
    "Accuracy: 0.4111600587371512\n",
    "F1 Score: 0.37814315677145366\n",
    "```\n",
    "\n",
    "b. Result from EfficientNetB0\n",
    "```\n",
    "### EfficientNetB0 on videos (test data)\n",
    "Confusion Matrix:\n",
    "[[ 33   0   0 117   0]\n",
    " [ 45   0   0  92   0]\n",
    " [ 25   0   0  86   0]\n",
    " [ 55   0   0 112   0]\n",
    " [ 13   0   0 103   0]]\n",
    "Precision: 0.09636105466222349\n",
    "Recall: 0.21292217327459617\n",
    "Accuracy: 0.21292217327459617\n",
    "F1 Score: 0.12642681444729262\n",
    "```\n",
    "\n",
    "c. Result from VGG16\n",
    "```\n",
    "### VGG16 on videos (test data)\n",
    "Confusion Matrix:\n",
    "[[124   0  22   4   0]\n",
    " [ 12   0  98  20   7]\n",
    " [  3   0 108   0   0]\n",
    " [ 15   0  48  91  13]\n",
    " [  3   0  90   7  16]]\n",
    "Precision: 0.48068511786537577\n",
    "Recall: 0.4977973568281938\n",
    "Accuracy: 0.4977973568281938\n",
    "F1 Score: 0.44203728661448993\n",
    "```\n",
    "\n",
    "In summary, for video classification, transfer learning using VGG16 as the pre-trained model performs the best with the highest precision (0.48), recall (0.50), accuracy (0.50), and f1 score (0.44) on videos. ResNet50 ranks second and finally EfficientNetB0. The model's performance ranking on video classification is the same as that on image classification."
   ]
  },
  {
   "cell_type": "markdown",
   "id": "94365f1f",
   "metadata": {},
   "source": [
    "These results are also supported by the files in data/backup, where I reran the code and got similar results to this notebook, which shows that the model is relatively robust to data randomness."
   ]
  }
 ],
 "metadata": {
  "accelerator": "GPU",
  "colab": {
   "gpuType": "T4",
   "machine_shape": "hm",
   "provenance": []
  },
  "gpuClass": "standard",
  "kernelspec": {
   "display_name": "Python 3 (ipykernel)",
   "language": "python",
   "name": "python3"
  },
  "language_info": {
   "codemirror_mode": {
    "name": "ipython",
    "version": 3
   },
   "file_extension": ".py",
   "mimetype": "text/x-python",
   "name": "python",
   "nbconvert_exporter": "python",
   "pygments_lexer": "ipython3",
   "version": "3.9.7"
  }
 },
 "nbformat": 4,
 "nbformat_minor": 5
}
